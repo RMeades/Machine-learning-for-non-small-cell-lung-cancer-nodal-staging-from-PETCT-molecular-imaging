{
 "cells": [
  {
   "cell_type": "markdown",
   "id": "103ee22e",
   "metadata": {},
   "source": [
    "# Import libraries"
   ]
  },
  {
   "cell_type": "code",
   "execution_count": null,
   "id": "ef8fc0b0",
   "metadata": {},
   "outputs": [],
   "source": [
    "import pandas as pd\n",
    "import numpy as np\n",
    "import matplotlib.pyplot as plt\n",
    "import seaborn as sns\n",
    "from sklearn.preprocessing import LabelEncoder, StandardScaler\n",
    "from imblearn.over_sampling import SMOTE, ADASYN \n",
    "from sklearn.model_selection import cross_val_predict, LeaveOneOut, GridSearchCV\n",
    "from sklearn.linear_model import LogisticRegression, Perceptron, SGDClassifier, RidgeClassifier, RidgeClassifierCV\n",
    "from sklearn.tree import DecisionTreeClassifier, ExtraTreeClassifier\n",
    "from sklearn.ensemble import RandomForestClassifier, ExtraTreesClassifier, AdaBoostClassifier, BaggingClassifier\n",
    "# !pip install xgboost\n",
    "from xgboost import XGBClassifier\n",
    "import lightgbm as lgb\n",
    "from sklearn.neighbors import KNeighborsClassifier, NearestCentroid\n",
    "from sklearn.svm import LinearSVC, NuSVC, SVC\n",
    "from sklearn.naive_bayes import BernoulliNB, GaussianNB\n",
    "# !pip install tqdm\n",
    "from tqdm import tqdm\n",
    "from sklearn.metrics import ConfusionMatrixDisplay\n",
    "from sklearn.metrics import RocCurveDisplay\n",
    "from sklearn.metrics import confusion_matrix\n",
    "from sklearn.metrics import classification_report\n",
    "from sklearn.metrics import roc_auc_score"
   ]
  },
  {
   "cell_type": "markdown",
   "id": "7ee90144",
   "metadata": {},
   "source": [
    "# Define functions"
   ]
  },
  {
   "cell_type": "code",
   "execution_count": 10,
   "id": "53a88155",
   "metadata": {},
   "outputs": [
    {
     "data": {
      "text/plain": [
       "['LogisticRegression',\n",
       " 'Perceptron',\n",
       " 'SGDClassifier',\n",
       " 'RidgeClassifier',\n",
       " 'RidgeClassifierCV',\n",
       " 'DecisionTreeClassifier',\n",
       " 'ExtraTreeClassifier',\n",
       " 'RandomForestClassifier',\n",
       " 'ExtraTreesClassifier',\n",
       " 'AdaBoostClassifier',\n",
       " 'BaggingClassifier',\n",
       " 'XGBClassifier',\n",
       " 'LGBMClassifier',\n",
       " 'KNeighborsClassifier',\n",
       " 'NearestCentroid',\n",
       " 'LinearSVC',\n",
       " 'NuSVC',\n",
       " 'SVC',\n",
       " 'BernoulliNB',\n",
       " 'GaussianNB']"
      ]
     },
     "execution_count": 10,
     "metadata": {},
     "output_type": "execute_result"
    }
   ],
   "source": [
    "# Create instances of all models to investigate\n",
    "LR_mod = LogisticRegression(random_state = 42)\n",
    "PTN_mod = Perceptron(random_state = 42)\n",
    "SGD_mod = SGDClassifier(random_state = 42)\n",
    "RDG_mod = RidgeClassifier(random_state = 42)\n",
    "RDGCV_mod = RidgeClassifierCV()\n",
    "DT_mod = DecisionTreeClassifier(random_state = 42)\n",
    "ET_mod = ExtraTreeClassifier(random_state = 42)\n",
    "RF_mod = RandomForestClassifier(random_state = 42)\n",
    "ETS_mod = ExtraTreesClassifier(random_state = 42)\n",
    "ADB_mod = AdaBoostClassifier(random_state = 42)\n",
    "BAG_mod = BaggingClassifier(random_state = 42)\n",
    "XGB_mod = XGBClassifier(random_state = 42)\n",
    "LFBM_mod = lgb.LGBMClassifier(random_state = 42)\n",
    "KNN_mod = KNeighborsClassifier()\n",
    "NC_mod  = NearestCentroid()\n",
    "LSVC_mod = LinearSVC(random_state = 42)\n",
    "NSVC_mod = NuSVC(random_state = 42)\n",
    "SVC_mod = SVC(random_state = 42)\n",
    "BNB_mod = BernoulliNB()\n",
    "GNB_mod = GaussianNB()\n",
    "\n",
    "# Create alist of defined model instances\n",
    "models = [LR_mod, PTN_mod, SGD_mod, RDG_mod, RDGCV_mod,\n",
    "          DT_mod, ET_mod, RF_mod, ETS_mod, ADB_mod, BAG_mod,\n",
    "          XGB_mod, LFBM_mod, KNN_mod, NC_mod, LSVC_mod, NSVC_mod,\n",
    "          SVC_mod, BNB_mod, GNB_mod]\n",
    "\n",
    "# Create a list of model names without parentheses\n",
    "model_names = [model.__class__.__name__ for model in models]\n",
    "model_names"
   ]
  },
  {
   "cell_type": "code",
   "execution_count": 12,
   "id": "c5a4e819",
   "metadata": {},
   "outputs": [],
   "source": [
    "# Degine a function that performs leave one out cross validation on the list of models \n",
    "# and populate a dataframe with each model and its metrics\n",
    "def train_models(X, y, models):\n",
    "    metrics_names = [\n",
    "        'Model', 'Accuracy', 'Sensitivity', 'Specificity',\n",
    "        'Positive Predictive Value', 'Negative Predictive Value',\n",
    "        'F1-score', 'False Positive Rate', 'True Positive Rate']\n",
    "    \n",
    "    all_metrics = pd.DataFrame(columns=metrics_names)\n",
    "    \n",
    "    for model in tqdm(models, desc=\"Training Models\", unit=\"model\"):\n",
    "        metrics = evaluate_model(model, X, y)\n",
    "        metrics_series = pd.Series(metrics, index=metrics_names)\n",
    "        metrics_df = metrics_series.to_frame().T\n",
    "        all_metrics = pd.concat([all_metrics, metrics_df], ignore_index=True)\n",
    "        print(\"{} - successfully trained\".format(model))\n",
    "    all_metrics['Model'] = model_names\n",
    "    all_metrics_sorted = all_metrics.sort_values(by='F1-score', ascending=False)\n",
    "    \n",
    "    return all_metrics_sorted"
   ]
  },
  {
   "cell_type": "code",
   "execution_count": 11,
   "id": "8d8e56eb",
   "metadata": {},
   "outputs": [],
   "source": [
    "# Define a function that trains and tests a model using leave one out\n",
    "# cross validation and returns a list of evaluation metrics\n",
    "\n",
    "def evaluate_model(model, X, y):\n",
    "    # Perform leave one out cross validation\n",
    "    cv = LeaveOneOut()\n",
    "    pred = cross_val_predict(model, X, y, cv=cv, n_jobs=-1)\n",
    "\n",
    "    # Calculate evaluation metrics\n",
    "    tn, fp, fn, tp = confusion_matrix(y, pred).ravel()\n",
    "    acc = (tp + tn) / (tp + tn + fp + fn)\n",
    "    sen = (tp) / (tp + fn)\n",
    "    spec = (tn) / (tn + fp)\n",
    "    ppv = (tp) / (tp + fp)\n",
    "    npv = (tn) / (tn + fn)\n",
    "    f1 = 2 * (sen * ppv) / (sen + ppv)\n",
    "    fpr = (fp) / (fp + tn)\n",
    "    tpr = (tp) / (tp + fn)\n",
    "\n",
    "    # Creating a tuple of calculated metrics\n",
    "    metrics_tuple = (model, acc, sen, spec, ppv, npv, f1, fpr, tpr)\n",
    "\n",
    "    return metrics_tuple"
   ]
  },
  {
   "cell_type": "markdown",
   "id": "9d490858",
   "metadata": {},
   "source": [
    "# Data import and inspection"
   ]
  },
  {
   "cell_type": "code",
   "execution_count": 2,
   "id": "2cec4223",
   "metadata": {},
   "outputs": [
    {
     "name": "stdout",
     "output_type": "stream",
     "text": [
      "<class 'pandas.core.frame.DataFrame'>\n",
      "RangeIndex: 230 entries, 0 to 229\n",
      "Data columns (total 9 columns):\n",
      " #   Column                  Non-Null Count  Dtype  \n",
      "---  ------                  --------------  -----  \n",
      " 0   Gender                  230 non-null    object \n",
      " 1   Age                     230 non-null    int64  \n",
      " 2   Nodal station           230 non-null    object \n",
      " 3   MBP SUVmax              230 non-null    float64\n",
      " 4   Node SUVmax             230 non-null    float64\n",
      " 5   Primary SUVmax          230 non-null    float64\n",
      " 6   Node short axis diam    230 non-null    float64\n",
      " 7   Primary long axis diam  230 non-null    int64  \n",
      " 8   EBUS cytology           230 non-null    object \n",
      "dtypes: float64(4), int64(2), object(3)\n",
      "memory usage: 16.3+ KB\n"
     ]
    },
    {
     "data": {
      "text/html": [
       "<div>\n",
       "<style scoped>\n",
       "    .dataframe tbody tr th:only-of-type {\n",
       "        vertical-align: middle;\n",
       "    }\n",
       "\n",
       "    .dataframe tbody tr th {\n",
       "        vertical-align: top;\n",
       "    }\n",
       "\n",
       "    .dataframe thead th {\n",
       "        text-align: right;\n",
       "    }\n",
       "</style>\n",
       "<table border=\"1\" class=\"dataframe\">\n",
       "  <thead>\n",
       "    <tr style=\"text-align: right;\">\n",
       "      <th></th>\n",
       "      <th>Gender</th>\n",
       "      <th>Age</th>\n",
       "      <th>Nodal station</th>\n",
       "      <th>MBP SUVmax</th>\n",
       "      <th>Node SUVmax</th>\n",
       "      <th>Primary SUVmax</th>\n",
       "      <th>Node short axis diam</th>\n",
       "      <th>Primary long axis diam</th>\n",
       "      <th>EBUS cytology</th>\n",
       "    </tr>\n",
       "  </thead>\n",
       "  <tbody>\n",
       "    <tr>\n",
       "      <th>0</th>\n",
       "      <td>F</td>\n",
       "      <td>64</td>\n",
       "      <td>10L</td>\n",
       "      <td>1.4</td>\n",
       "      <td>3.0</td>\n",
       "      <td>7.4</td>\n",
       "      <td>5.0</td>\n",
       "      <td>12</td>\n",
       "      <td>N</td>\n",
       "    </tr>\n",
       "    <tr>\n",
       "      <th>1</th>\n",
       "      <td>F</td>\n",
       "      <td>56</td>\n",
       "      <td>10L</td>\n",
       "      <td>2.2</td>\n",
       "      <td>16.8</td>\n",
       "      <td>16.8</td>\n",
       "      <td>40.0</td>\n",
       "      <td>54</td>\n",
       "      <td>N</td>\n",
       "    </tr>\n",
       "    <tr>\n",
       "      <th>2</th>\n",
       "      <td>F</td>\n",
       "      <td>64</td>\n",
       "      <td>10R</td>\n",
       "      <td>1.4</td>\n",
       "      <td>2.5</td>\n",
       "      <td>7.4</td>\n",
       "      <td>7.0</td>\n",
       "      <td>12</td>\n",
       "      <td>N</td>\n",
       "    </tr>\n",
       "    <tr>\n",
       "      <th>3</th>\n",
       "      <td>M</td>\n",
       "      <td>85</td>\n",
       "      <td>10R</td>\n",
       "      <td>2.2</td>\n",
       "      <td>5.9</td>\n",
       "      <td>7.1</td>\n",
       "      <td>9.0</td>\n",
       "      <td>14</td>\n",
       "      <td>N</td>\n",
       "    </tr>\n",
       "    <tr>\n",
       "      <th>4</th>\n",
       "      <td>F</td>\n",
       "      <td>66</td>\n",
       "      <td>10R</td>\n",
       "      <td>2.4</td>\n",
       "      <td>0.0</td>\n",
       "      <td>30.5</td>\n",
       "      <td>0.0</td>\n",
       "      <td>32</td>\n",
       "      <td>N</td>\n",
       "    </tr>\n",
       "  </tbody>\n",
       "</table>\n",
       "</div>"
      ],
      "text/plain": [
       "  Gender  Age Nodal station  MBP SUVmax  Node SUVmax  Primary SUVmax  \\\n",
       "0      F   64           10L         1.4          3.0             7.4   \n",
       "1      F   56           10L         2.2         16.8            16.8   \n",
       "2      F   64           10R         1.4          2.5             7.4   \n",
       "3      M   85           10R         2.2          5.9             7.1   \n",
       "4      F   66           10R         2.4          0.0            30.5   \n",
       "\n",
       "   Node short axis diam  Primary long axis diam EBUS cytology  \n",
       "0                   5.0                      12             N  \n",
       "1                  40.0                      54             N  \n",
       "2                   7.0                      12             N  \n",
       "3                   9.0                      14             N  \n",
       "4                   0.0                      32             N  "
      ]
     },
     "execution_count": 2,
     "metadata": {},
     "output_type": "execute_result"
    }
   ],
   "source": [
    "# Import and view data\n",
    "data = pd.read_csv(r\"C:\\Users\\rm8l\\Documents\\data\\PET for NSCLC nodal staging.csv\")\n",
    "data.info()\n",
    "data.head()"
   ]
  },
  {
   "cell_type": "markdown",
   "id": "dc42ab4e",
   "metadata": {},
   "source": [
    "# Data preparation"
   ]
  },
  {
   "cell_type": "code",
   "execution_count": 3,
   "id": "ca3eb58a",
   "metadata": {},
   "outputs": [
    {
     "name": "stdout",
     "output_type": "stream",
     "text": [
      "<class 'pandas.core.frame.DataFrame'>\n",
      "RangeIndex: 230 entries, 0 to 229\n",
      "Data columns (total 9 columns):\n",
      " #   Column                  Non-Null Count  Dtype  \n",
      "---  ------                  --------------  -----  \n",
      " 0   Age                     230 non-null    int64  \n",
      " 1   MBP SUVmax              230 non-null    float64\n",
      " 2   Node SUVmax             230 non-null    float64\n",
      " 3   Primary SUVmax          230 non-null    float64\n",
      " 4   Node short axis diam    230 non-null    float64\n",
      " 5   Primary long axis diam  230 non-null    int64  \n",
      " 6   EBUS cytology           230 non-null    int32  \n",
      " 7   Gender_F                230 non-null    uint8  \n",
      " 8   Gender_M                230 non-null    uint8  \n",
      "dtypes: float64(4), int32(1), int64(2), uint8(2)\n",
      "memory usage: 12.3 KB\n"
     ]
    },
    {
     "data": {
      "text/html": [
       "<div>\n",
       "<style scoped>\n",
       "    .dataframe tbody tr th:only-of-type {\n",
       "        vertical-align: middle;\n",
       "    }\n",
       "\n",
       "    .dataframe tbody tr th {\n",
       "        vertical-align: top;\n",
       "    }\n",
       "\n",
       "    .dataframe thead th {\n",
       "        text-align: right;\n",
       "    }\n",
       "</style>\n",
       "<table border=\"1\" class=\"dataframe\">\n",
       "  <thead>\n",
       "    <tr style=\"text-align: right;\">\n",
       "      <th></th>\n",
       "      <th>Age</th>\n",
       "      <th>MBP SUVmax</th>\n",
       "      <th>Node SUVmax</th>\n",
       "      <th>Primary SUVmax</th>\n",
       "      <th>Node short axis diam</th>\n",
       "      <th>Primary long axis diam</th>\n",
       "      <th>EBUS cytology</th>\n",
       "      <th>Gender_F</th>\n",
       "      <th>Gender_M</th>\n",
       "    </tr>\n",
       "  </thead>\n",
       "  <tbody>\n",
       "    <tr>\n",
       "      <th>0</th>\n",
       "      <td>64</td>\n",
       "      <td>1.4</td>\n",
       "      <td>3.0</td>\n",
       "      <td>7.4</td>\n",
       "      <td>5.0</td>\n",
       "      <td>12</td>\n",
       "      <td>0</td>\n",
       "      <td>1</td>\n",
       "      <td>0</td>\n",
       "    </tr>\n",
       "    <tr>\n",
       "      <th>1</th>\n",
       "      <td>56</td>\n",
       "      <td>2.2</td>\n",
       "      <td>16.8</td>\n",
       "      <td>16.8</td>\n",
       "      <td>40.0</td>\n",
       "      <td>54</td>\n",
       "      <td>0</td>\n",
       "      <td>1</td>\n",
       "      <td>0</td>\n",
       "    </tr>\n",
       "    <tr>\n",
       "      <th>2</th>\n",
       "      <td>64</td>\n",
       "      <td>1.4</td>\n",
       "      <td>2.5</td>\n",
       "      <td>7.4</td>\n",
       "      <td>7.0</td>\n",
       "      <td>12</td>\n",
       "      <td>0</td>\n",
       "      <td>1</td>\n",
       "      <td>0</td>\n",
       "    </tr>\n",
       "    <tr>\n",
       "      <th>3</th>\n",
       "      <td>85</td>\n",
       "      <td>2.2</td>\n",
       "      <td>5.9</td>\n",
       "      <td>7.1</td>\n",
       "      <td>9.0</td>\n",
       "      <td>14</td>\n",
       "      <td>0</td>\n",
       "      <td>0</td>\n",
       "      <td>1</td>\n",
       "    </tr>\n",
       "    <tr>\n",
       "      <th>4</th>\n",
       "      <td>66</td>\n",
       "      <td>2.4</td>\n",
       "      <td>0.0</td>\n",
       "      <td>30.5</td>\n",
       "      <td>0.0</td>\n",
       "      <td>32</td>\n",
       "      <td>0</td>\n",
       "      <td>1</td>\n",
       "      <td>0</td>\n",
       "    </tr>\n",
       "  </tbody>\n",
       "</table>\n",
       "</div>"
      ],
      "text/plain": [
       "   Age  MBP SUVmax  Node SUVmax  Primary SUVmax  Node short axis diam  \\\n",
       "0   64         1.4          3.0             7.4                   5.0   \n",
       "1   56         2.2         16.8            16.8                  40.0   \n",
       "2   64         1.4          2.5             7.4                   7.0   \n",
       "3   85         2.2          5.9             7.1                   9.0   \n",
       "4   66         2.4          0.0            30.5                   0.0   \n",
       "\n",
       "   Primary long axis diam  EBUS cytology  Gender_F  Gender_M  \n",
       "0                      12              0         1         0  \n",
       "1                      54              0         1         0  \n",
       "2                      12              0         1         0  \n",
       "3                      14              0         0         1  \n",
       "4                      32              0         1         0  "
      ]
     },
     "execution_count": 3,
     "metadata": {},
     "output_type": "execute_result"
    }
   ],
   "source": [
    "# Convert label into binary 0 and 1\n",
    "le = LabelEncoder()\n",
    "data['EBUS cytology'] = le.fit_transform(data['EBUS cytology'])\n",
    "\n",
    "# Remove unwanted data not relevant to investigation\n",
    "data = data.drop(['Nodal station'], axis=1)\n",
    "\n",
    "# One hot encode catagorical variables (gender)\n",
    "data = pd.get_dummies(data)\n",
    "\n",
    "data.info()\n",
    "data.head()"
   ]
  },
  {
   "cell_type": "code",
   "execution_count": 4,
   "id": "7a56f473",
   "metadata": {},
   "outputs": [
    {
     "name": "stdout",
     "output_type": "stream",
     "text": [
      "<class 'pandas.core.frame.DataFrame'>\n",
      "RangeIndex: 230 entries, 0 to 229\n",
      "Data columns (total 18 columns):\n",
      " #   Column                  Non-Null Count  Dtype  \n",
      "---  ------                  --------------  -----  \n",
      " 0   Age                     230 non-null    int64  \n",
      " 1   MBP SUVmax              230 non-null    float64\n",
      " 2   Node SUVmax             230 non-null    float64\n",
      " 3   Primary SUVmax          230 non-null    float64\n",
      " 4   Node short axis diam    230 non-null    float64\n",
      " 5   Primary long axis diam  230 non-null    float64\n",
      " 6   EBUS cytology           230 non-null    int32  \n",
      " 7   Gender_F                230 non-null    uint8  \n",
      " 8   Gender_M                230 non-null    uint8  \n",
      " 9   prim-mbp                230 non-null    float64\n",
      " 10  Node-mbp                230 non-null    float64\n",
      " 11  Node-prim               230 non-null    float64\n",
      " 12  prim/mbp                230 non-null    float64\n",
      " 13  Node/mbp                230 non-null    float64\n",
      " 14  Node/prim               230 non-null    float64\n",
      " 15  Node diam/Prim diam     230 non-null    float64\n",
      " 16  Node SUV/Node diam      230 non-null    float64\n",
      " 17  Prim SUV/Prim diam      230 non-null    float64\n",
      "dtypes: float64(14), int32(1), int64(1), uint8(2)\n",
      "memory usage: 28.4 KB\n"
     ]
    },
    {
     "data": {
      "text/html": [
       "<div>\n",
       "<style scoped>\n",
       "    .dataframe tbody tr th:only-of-type {\n",
       "        vertical-align: middle;\n",
       "    }\n",
       "\n",
       "    .dataframe tbody tr th {\n",
       "        vertical-align: top;\n",
       "    }\n",
       "\n",
       "    .dataframe thead th {\n",
       "        text-align: right;\n",
       "    }\n",
       "</style>\n",
       "<table border=\"1\" class=\"dataframe\">\n",
       "  <thead>\n",
       "    <tr style=\"text-align: right;\">\n",
       "      <th></th>\n",
       "      <th>Age</th>\n",
       "      <th>MBP SUVmax</th>\n",
       "      <th>Node SUVmax</th>\n",
       "      <th>Primary SUVmax</th>\n",
       "      <th>Node short axis diam</th>\n",
       "      <th>Primary long axis diam</th>\n",
       "      <th>EBUS cytology</th>\n",
       "      <th>Gender_F</th>\n",
       "      <th>Gender_M</th>\n",
       "      <th>prim-mbp</th>\n",
       "      <th>Node-mbp</th>\n",
       "      <th>Node-prim</th>\n",
       "      <th>prim/mbp</th>\n",
       "      <th>Node/mbp</th>\n",
       "      <th>Node/prim</th>\n",
       "      <th>Node diam/Prim diam</th>\n",
       "      <th>Node SUV/Node diam</th>\n",
       "      <th>Prim SUV/Prim diam</th>\n",
       "    </tr>\n",
       "  </thead>\n",
       "  <tbody>\n",
       "    <tr>\n",
       "      <th>0</th>\n",
       "      <td>64</td>\n",
       "      <td>1.401</td>\n",
       "      <td>3.001</td>\n",
       "      <td>7.401</td>\n",
       "      <td>5.001</td>\n",
       "      <td>12.001</td>\n",
       "      <td>0</td>\n",
       "      <td>1</td>\n",
       "      <td>0</td>\n",
       "      <td>6.0</td>\n",
       "      <td>1.6</td>\n",
       "      <td>-4.4</td>\n",
       "      <td>5.282655</td>\n",
       "      <td>2.142041</td>\n",
       "      <td>0.405486</td>\n",
       "      <td>0.416715</td>\n",
       "      <td>0.600080</td>\n",
       "      <td>0.616699</td>\n",
       "    </tr>\n",
       "    <tr>\n",
       "      <th>1</th>\n",
       "      <td>56</td>\n",
       "      <td>2.201</td>\n",
       "      <td>16.801</td>\n",
       "      <td>16.801</td>\n",
       "      <td>40.001</td>\n",
       "      <td>54.001</td>\n",
       "      <td>0</td>\n",
       "      <td>1</td>\n",
       "      <td>0</td>\n",
       "      <td>14.6</td>\n",
       "      <td>14.6</td>\n",
       "      <td>0.0</td>\n",
       "      <td>7.633348</td>\n",
       "      <td>7.633348</td>\n",
       "      <td>1.000000</td>\n",
       "      <td>0.740746</td>\n",
       "      <td>0.420014</td>\n",
       "      <td>0.311124</td>\n",
       "    </tr>\n",
       "    <tr>\n",
       "      <th>2</th>\n",
       "      <td>64</td>\n",
       "      <td>1.401</td>\n",
       "      <td>2.501</td>\n",
       "      <td>7.401</td>\n",
       "      <td>7.001</td>\n",
       "      <td>12.001</td>\n",
       "      <td>0</td>\n",
       "      <td>1</td>\n",
       "      <td>0</td>\n",
       "      <td>6.0</td>\n",
       "      <td>1.1</td>\n",
       "      <td>-4.9</td>\n",
       "      <td>5.282655</td>\n",
       "      <td>1.785153</td>\n",
       "      <td>0.337927</td>\n",
       "      <td>0.583368</td>\n",
       "      <td>0.357235</td>\n",
       "      <td>0.616699</td>\n",
       "    </tr>\n",
       "    <tr>\n",
       "      <th>3</th>\n",
       "      <td>85</td>\n",
       "      <td>2.201</td>\n",
       "      <td>5.901</td>\n",
       "      <td>7.101</td>\n",
       "      <td>9.001</td>\n",
       "      <td>14.001</td>\n",
       "      <td>0</td>\n",
       "      <td>0</td>\n",
       "      <td>1</td>\n",
       "      <td>4.9</td>\n",
       "      <td>3.7</td>\n",
       "      <td>-1.2</td>\n",
       "      <td>3.226261</td>\n",
       "      <td>2.681054</td>\n",
       "      <td>0.831010</td>\n",
       "      <td>0.642883</td>\n",
       "      <td>0.655594</td>\n",
       "      <td>0.507178</td>\n",
       "    </tr>\n",
       "    <tr>\n",
       "      <th>4</th>\n",
       "      <td>66</td>\n",
       "      <td>2.401</td>\n",
       "      <td>0.001</td>\n",
       "      <td>30.501</td>\n",
       "      <td>0.001</td>\n",
       "      <td>32.001</td>\n",
       "      <td>0</td>\n",
       "      <td>1</td>\n",
       "      <td>0</td>\n",
       "      <td>28.1</td>\n",
       "      <td>-2.4</td>\n",
       "      <td>-30.5</td>\n",
       "      <td>12.703457</td>\n",
       "      <td>0.000416</td>\n",
       "      <td>0.000033</td>\n",
       "      <td>0.000031</td>\n",
       "      <td>1.000000</td>\n",
       "      <td>0.953126</td>\n",
       "    </tr>\n",
       "  </tbody>\n",
       "</table>\n",
       "</div>"
      ],
      "text/plain": [
       "   Age  MBP SUVmax  Node SUVmax  Primary SUVmax  Node short axis diam  \\\n",
       "0   64       1.401        3.001           7.401                 5.001   \n",
       "1   56       2.201       16.801          16.801                40.001   \n",
       "2   64       1.401        2.501           7.401                 7.001   \n",
       "3   85       2.201        5.901           7.101                 9.001   \n",
       "4   66       2.401        0.001          30.501                 0.001   \n",
       "\n",
       "   Primary long axis diam  EBUS cytology  Gender_F  Gender_M  prim-mbp  \\\n",
       "0                  12.001              0         1         0       6.0   \n",
       "1                  54.001              0         1         0      14.6   \n",
       "2                  12.001              0         1         0       6.0   \n",
       "3                  14.001              0         0         1       4.9   \n",
       "4                  32.001              0         1         0      28.1   \n",
       "\n",
       "   Node-mbp  Node-prim   prim/mbp  Node/mbp  Node/prim  Node diam/Prim diam  \\\n",
       "0       1.6       -4.4   5.282655  2.142041   0.405486             0.416715   \n",
       "1      14.6        0.0   7.633348  7.633348   1.000000             0.740746   \n",
       "2       1.1       -4.9   5.282655  1.785153   0.337927             0.583368   \n",
       "3       3.7       -1.2   3.226261  2.681054   0.831010             0.642883   \n",
       "4      -2.4      -30.5  12.703457  0.000416   0.000033             0.000031   \n",
       "\n",
       "   Node SUV/Node diam  Prim SUV/Prim diam  \n",
       "0            0.600080            0.616699  \n",
       "1            0.420014            0.311124  \n",
       "2            0.357235            0.616699  \n",
       "3            0.655594            0.507178  \n",
       "4            1.000000            0.953126  "
      ]
     },
     "execution_count": 4,
     "metadata": {},
     "output_type": "execute_result"
    }
   ],
   "source": [
    "# Apply an insignificant value to all features to eliminate 0 values\n",
    "# causing infinity when feature engineering\n",
    "data[['MBP SUVmax', 'Node SUVmax', 'Primary SUVmax', 'Primary long axis diam',\n",
    "      'Node short axis diam']] = data[['MBP SUVmax', 'Node SUVmax',\n",
    "                                       'Primary SUVmax',\n",
    "                                       'Primary long axis diam',\n",
    "                                       'Node short axis diam'\n",
    "                                       ]].apply(lambda x: x + 0.001)\n",
    "# Feature engineering\n",
    "data['prim-mbp'] = data['Primary SUVmax'] - data['MBP SUVmax']\n",
    "data['Node-mbp'] = data['Node SUVmax'] - data['MBP SUVmax']\n",
    "data['Node-prim'] = data['Node SUVmax'] - data['Primary SUVmax']\n",
    "data['prim/mbp'] = data['Primary SUVmax'] / data['MBP SUVmax']\n",
    "data['Node/mbp'] = data['Node SUVmax'] / data['MBP SUVmax']\n",
    "data['Node/prim'] = data['Node SUVmax'] / data['Primary SUVmax']\n",
    "data['Node diam/Prim diam'] = data['Node short axis diam'] / data['Primary long axis diam']\n",
    "data['Node SUV/Node diam'] = data['Node SUVmax'] / data['Node short axis diam']\n",
    "data['Prim SUV/Prim diam'] = data['Primary SUVmax'] / data['Primary long axis diam']\n",
    "\n",
    "data.info()\n",
    "data.head()"
   ]
  },
  {
   "cell_type": "code",
   "execution_count": 5,
   "id": "00a6dddc",
   "metadata": {},
   "outputs": [
    {
     "data": {
      "text/plain": [
       "<AxesSubplot:xlabel='EBUS cytology', ylabel='Count'>"
      ]
     },
     "execution_count": 5,
     "metadata": {},
     "output_type": "execute_result"
    },
    {
     "data": {
      "image/png": "[encoded data removed]",
      "text/plain": [
       "<Figure size 640x480 with 1 Axes>"
      ]
     },
     "metadata": {},
     "output_type": "display_data"
    }
   ],
   "source": [
    "# Split data into features and labels\n",
    "X = data.drop(['EBUS cytology'], axis=1)\n",
    "y = data['EBUS cytology']\n",
    "sns.histplot(y)"
   ]
  },
  {
   "cell_type": "code",
   "execution_count": 6,
   "id": "07bad359",
   "metadata": {},
   "outputs": [],
   "source": [
    "N = 300\n",
    "samp = {0:N,1:N}"
   ]
  },
  {
   "cell_type": "code",
   "execution_count": 7,
   "id": "0cd7c711",
   "metadata": {},
   "outputs": [
    {
     "name": "stderr",
     "output_type": "stream",
     "text": [
      "C:\\Users\\rm8l\\Anaconda3\\lib\\site-packages\\imblearn\\utils\\_validation.py:299: UserWarning: After over-sampling, the number of samples (300) in class 0 will be larger than the number of samples in the majority class (class #0 -> 159)\n",
      "  warnings.warn(\n",
      "C:\\Users\\rm8l\\Anaconda3\\lib\\site-packages\\imblearn\\utils\\_validation.py:299: UserWarning: After over-sampling, the number of samples (300) in class 1 will be larger than the number of samples in the majority class (class #0 -> 159)\n",
      "  warnings.warn(\n"
     ]
    },
    {
     "data": {
      "text/plain": [
       "<AxesSubplot:xlabel='EBUS cytology', ylabel='Count'>"
      ]
     },
     "execution_count": 7,
     "metadata": {},
     "output_type": "execute_result"
    },
    {
     "data": {
      "image/png": "[encoded data removed]",
      "text/plain": [
       "<Figure size 640x480 with 1 Axes>"
      ]
     },
     "metadata": {},
     "output_type": "display_data"
    }
   ],
   "source": [
    "# USe SMOTE to balance classes\n",
    "smt = SMOTE(sampling_strategy=samp)\n",
    "X_smt, y_smt = smt.fit_resample(X, y)\n",
    "sns.histplot(y_smt)"
   ]
  },
  {
   "cell_type": "code",
   "execution_count": 8,
   "id": "4f3210ba",
   "metadata": {},
   "outputs": [
    {
     "name": "stderr",
     "output_type": "stream",
     "text": [
      "C:\\Users\\rm8l\\Anaconda3\\lib\\site-packages\\imblearn\\utils\\_validation.py:299: UserWarning: After over-sampling, the number of samples (300) in class 0 will be larger than the number of samples in the majority class (class #0 -> 159)\n",
      "  warnings.warn(\n",
      "C:\\Users\\rm8l\\Anaconda3\\lib\\site-packages\\imblearn\\utils\\_validation.py:299: UserWarning: After over-sampling, the number of samples (300) in class 1 will be larger than the number of samples in the majority class (class #0 -> 159)\n",
      "  warnings.warn(\n"
     ]
    },
    {
     "data": {
      "text/plain": [
       "<AxesSubplot:xlabel='EBUS cytology', ylabel='Count'>"
      ]
     },
     "execution_count": 8,
     "metadata": {},
     "output_type": "execute_result"
    },
    {
     "data": {
      "image/png": "[encoded data removed]",
      "text/plain": [
       "<Figure size 640x480 with 1 Axes>"
      ]
     },
     "metadata": {},
     "output_type": "display_data"
    }
   ],
   "source": [
    "# Use adasyn to balance classes\n",
    "samp = {0:N,1:N}\n",
    "ada = ADASYN(sampling_strategy=samp)\n",
    "X_ada, y_ada = ada.fit_resample(X, y)\n",
    "sns.histplot(y_ada)"
   ]
  },
  {
   "cell_type": "code",
   "execution_count": 9,
   "id": "32a2f4ff",
   "metadata": {},
   "outputs": [],
   "source": [
    "# Scale features\n",
    "scaler = StandardScaler()\n",
    "X_smt_scaled = scaler.fit_transform(X_smt)\n",
    "X_ada_scaled = scaler.fit_transform(X_ada)"
   ]
  },
  {
   "cell_type": "markdown",
   "id": "b30d3f4d",
   "metadata": {},
   "source": [
    "# Model training"
   ]
  },
  {
   "cell_type": "code",
   "execution_count": 13,
   "id": "4dc82d51",
   "metadata": {},
   "outputs": [
    {
     "name": "stderr",
     "output_type": "stream",
     "text": [
      "Training Models:   5%|███▏                                                           | 1/20 [00:17<05:30, 17.39s/model]"
     ]
    },
    {
     "name": "stdout",
     "output_type": "stream",
     "text": [
      "LogisticRegression(random_state=42) - successfully trained\n"
     ]
    },
    {
     "name": "stderr",
     "output_type": "stream",
     "text": [
      "Training Models:  10%|██████▎                                                        | 2/20 [00:18<02:16,  7.58s/model]"
     ]
    },
    {
     "name": "stdout",
     "output_type": "stream",
     "text": [
      "Perceptron(random_state=42) - successfully trained\n"
     ]
    },
    {
     "name": "stderr",
     "output_type": "stream",
     "text": [
      "Training Models:  15%|█████████▍                                                     | 3/20 [00:19<01:17,  4.55s/model]"
     ]
    },
    {
     "name": "stdout",
     "output_type": "stream",
     "text": [
      "SGDClassifier(random_state=42) - successfully trained\n"
     ]
    },
    {
     "name": "stderr",
     "output_type": "stream",
     "text": [
      "Training Models:  20%|████████████▌                                                  | 4/20 [00:19<00:48,  3.03s/model]"
     ]
    },
    {
     "name": "stdout",
     "output_type": "stream",
     "text": [
      "RidgeClassifier(random_state=42) - successfully trained\n"
     ]
    },
    {
     "name": "stderr",
     "output_type": "stream",
     "text": [
      "Training Models:  25%|███████████████▊                                               | 5/20 [00:20<00:34,  2.27s/model]"
     ]
    },
    {
     "name": "stdout",
     "output_type": "stream",
     "text": [
      "RidgeClassifierCV(alphas=array([ 0.1,  1. , 10. ])) - successfully trained\n"
     ]
    },
    {
     "name": "stderr",
     "output_type": "stream",
     "text": [
      "Training Models:  30%|██████████████████▉                                            | 6/20 [00:22<00:28,  2.07s/model]"
     ]
    },
    {
     "name": "stdout",
     "output_type": "stream",
     "text": [
      "DecisionTreeClassifier(random_state=42) - successfully trained\n"
     ]
    },
    {
     "name": "stderr",
     "output_type": "stream",
     "text": [
      "Training Models:  35%|██████████████████████                                         | 7/20 [00:22<00:20,  1.59s/model]"
     ]
    },
    {
     "name": "stdout",
     "output_type": "stream",
     "text": [
      "ExtraTreeClassifier(random_state=42) - successfully trained\n"
     ]
    },
    {
     "name": "stderr",
     "output_type": "stream",
     "text": [
      "Training Models:  40%|█████████████████████████▏                                     | 8/20 [01:13<03:26, 17.24s/model]"
     ]
    },
    {
     "name": "stdout",
     "output_type": "stream",
     "text": [
      "RandomForestClassifier(random_state=42) - successfully trained\n"
     ]
    },
    {
     "name": "stderr",
     "output_type": "stream",
     "text": [
      "Training Models:  45%|████████████████████████████▎                                  | 9/20 [01:48<04:11, 22.87s/model]"
     ]
    },
    {
     "name": "stdout",
     "output_type": "stream",
     "text": [
      "ExtraTreesClassifier(random_state=42) - successfully trained\n"
     ]
    },
    {
     "name": "stderr",
     "output_type": "stream",
     "text": [
      "Training Models:  50%|███████████████████████████████                               | 10/20 [02:15<04:00, 24.03s/model]"
     ]
    },
    {
     "name": "stdout",
     "output_type": "stream",
     "text": [
      "AdaBoostClassifier(random_state=42) - successfully trained\n"
     ]
    },
    {
     "name": "stderr",
     "output_type": "stream",
     "text": [
      "Training Models:  55%|██████████████████████████████████                            | 11/20 [02:25<02:58, 19.78s/model]"
     ]
    },
    {
     "name": "stdout",
     "output_type": "stream",
     "text": [
      "BaggingClassifier(random_state=42) - successfully trained\n"
     ]
    },
    {
     "name": "stderr",
     "output_type": "stream",
     "text": [
      "Training Models:  60%|█████████████████████████████████████▏                        | 12/20 [02:51<02:52, 21.54s/model]"
     ]
    },
    {
     "name": "stdout",
     "output_type": "stream",
     "text": [
      "XGBClassifier(base_score=None, booster=None, callbacks=None,\n",
      "              colsample_bylevel=None, colsample_bynode=None,\n",
      "              colsample_bytree=None, early_stopping_rounds=None,\n",
      "              enable_categorical=False, eval_metric=None, feature_types=None,\n",
      "              gamma=None, gpu_id=None, grow_policy=None, importance_type=None,\n",
      "              interaction_constraints=None, learning_rate=None, max_bin=None,\n",
      "              max_cat_threshold=None, max_cat_to_onehot=None,\n",
      "              max_delta_step=None, max_depth=None, max_leaves=None,\n",
      "              min_child_weight=None, missing=nan, monotone_constraints=None,\n",
      "              n_estimators=100, n_jobs=None, num_parallel_tree=None,\n",
      "              predictor=None, random_state=42, ...) - successfully trained\n"
     ]
    },
    {
     "name": "stderr",
     "output_type": "stream",
     "text": [
      "Training Models:  65%|████████████████████████████████████████▎                     | 13/20 [03:16<02:38, 22.70s/model]"
     ]
    },
    {
     "name": "stdout",
     "output_type": "stream",
     "text": [
      "LGBMClassifier(random_state=42) - successfully trained\n"
     ]
    },
    {
     "name": "stderr",
     "output_type": "stream",
     "text": [
      "Training Models:  70%|███████████████████████████████████████████▍                  | 14/20 [03:17<01:36, 16.09s/model]"
     ]
    },
    {
     "name": "stdout",
     "output_type": "stream",
     "text": [
      "KNeighborsClassifier() - successfully trained\n"
     ]
    },
    {
     "name": "stderr",
     "output_type": "stream",
     "text": [
      "Training Models:  75%|██████████████████████████████████████████████▌               | 15/20 [03:17<00:56, 11.39s/model]"
     ]
    },
    {
     "name": "stdout",
     "output_type": "stream",
     "text": [
      "NearestCentroid() - successfully trained\n"
     ]
    },
    {
     "name": "stderr",
     "output_type": "stream",
     "text": [
      "Training Models:  80%|█████████████████████████████████████████████████▌            | 16/20 [03:27<00:43, 10.81s/model]"
     ]
    },
    {
     "name": "stdout",
     "output_type": "stream",
     "text": [
      "LinearSVC(random_state=42) - successfully trained\n"
     ]
    },
    {
     "name": "stderr",
     "output_type": "stream",
     "text": [
      "Training Models:  85%|████████████████████████████████████████████████████▋         | 17/20 [03:33<00:27,  9.32s/model]"
     ]
    },
    {
     "name": "stdout",
     "output_type": "stream",
     "text": [
      "NuSVC(random_state=42) - successfully trained\n"
     ]
    },
    {
     "name": "stderr",
     "output_type": "stream",
     "text": [
      "Training Models:  90%|███████████████████████████████████████████████████████▊      | 18/20 [03:36<00:15,  7.59s/model]"
     ]
    },
    {
     "name": "stdout",
     "output_type": "stream",
     "text": [
      "SVC(random_state=42) - successfully trained\n"
     ]
    },
    {
     "name": "stderr",
     "output_type": "stream",
     "text": [
      "Training Models:  95%|██████████████████████████████████████████████████████████▉   | 19/20 [03:37<00:05,  5.48s/model]"
     ]
    },
    {
     "name": "stdout",
     "output_type": "stream",
     "text": [
      "BernoulliNB() - successfully trained\n"
     ]
    },
    {
     "name": "stderr",
     "output_type": "stream",
     "text": [
      "Training Models: 100%|██████████████████████████████████████████████████████████████| 20/20 [03:37<00:00, 10.90s/model]"
     ]
    },
    {
     "name": "stdout",
     "output_type": "stream",
     "text": [
      "GaussianNB() - successfully trained\n"
     ]
    },
    {
     "name": "stderr",
     "output_type": "stream",
     "text": [
      "\n"
     ]
    },
    {
     "data": {
      "text/html": [
       "<div>\n",
       "<style scoped>\n",
       "    .dataframe tbody tr th:only-of-type {\n",
       "        vertical-align: middle;\n",
       "    }\n",
       "\n",
       "    .dataframe tbody tr th {\n",
       "        vertical-align: top;\n",
       "    }\n",
       "\n",
       "    .dataframe thead th {\n",
       "        text-align: right;\n",
       "    }\n",
       "</style>\n",
       "<table border=\"1\" class=\"dataframe\">\n",
       "  <thead>\n",
       "    <tr style=\"text-align: right;\">\n",
       "      <th></th>\n",
       "      <th>Model</th>\n",
       "      <th>Accuracy</th>\n",
       "      <th>Sensitivity</th>\n",
       "      <th>Specificity</th>\n",
       "      <th>Positive Predictive Value</th>\n",
       "      <th>Negative Predictive Value</th>\n",
       "      <th>F1-score</th>\n",
       "      <th>False Positive Rate</th>\n",
       "      <th>True Positive Rate</th>\n",
       "    </tr>\n",
       "  </thead>\n",
       "  <tbody>\n",
       "    <tr>\n",
       "      <th>12</th>\n",
       "      <td>LGBMClassifier</td>\n",
       "      <td>0.936667</td>\n",
       "      <td>0.946667</td>\n",
       "      <td>0.926667</td>\n",
       "      <td>0.928105</td>\n",
       "      <td>0.945578</td>\n",
       "      <td>0.937294</td>\n",
       "      <td>0.073333</td>\n",
       "      <td>0.946667</td>\n",
       "    </tr>\n",
       "    <tr>\n",
       "      <th>11</th>\n",
       "      <td>XGBClassifier</td>\n",
       "      <td>0.931667</td>\n",
       "      <td>0.946667</td>\n",
       "      <td>0.916667</td>\n",
       "      <td>0.919094</td>\n",
       "      <td>0.945017</td>\n",
       "      <td>0.932677</td>\n",
       "      <td>0.083333</td>\n",
       "      <td>0.946667</td>\n",
       "    </tr>\n",
       "    <tr>\n",
       "      <th>8</th>\n",
       "      <td>ExtraTreesClassifier</td>\n",
       "      <td>0.931667</td>\n",
       "      <td>0.94</td>\n",
       "      <td>0.923333</td>\n",
       "      <td>0.92459</td>\n",
       "      <td>0.938983</td>\n",
       "      <td>0.932231</td>\n",
       "      <td>0.076667</td>\n",
       "      <td>0.94</td>\n",
       "    </tr>\n",
       "    <tr>\n",
       "      <th>7</th>\n",
       "      <td>RandomForestClassifier</td>\n",
       "      <td>0.916667</td>\n",
       "      <td>0.93</td>\n",
       "      <td>0.903333</td>\n",
       "      <td>0.905844</td>\n",
       "      <td>0.928082</td>\n",
       "      <td>0.917763</td>\n",
       "      <td>0.096667</td>\n",
       "      <td>0.93</td>\n",
       "    </tr>\n",
       "    <tr>\n",
       "      <th>13</th>\n",
       "      <td>KNeighborsClassifier</td>\n",
       "      <td>0.913333</td>\n",
       "      <td>0.936667</td>\n",
       "      <td>0.89</td>\n",
       "      <td>0.894904</td>\n",
       "      <td>0.933566</td>\n",
       "      <td>0.915309</td>\n",
       "      <td>0.11</td>\n",
       "      <td>0.936667</td>\n",
       "    </tr>\n",
       "    <tr>\n",
       "      <th>17</th>\n",
       "      <td>SVC</td>\n",
       "      <td>0.911667</td>\n",
       "      <td>0.896667</td>\n",
       "      <td>0.926667</td>\n",
       "      <td>0.924399</td>\n",
       "      <td>0.899676</td>\n",
       "      <td>0.910321</td>\n",
       "      <td>0.073333</td>\n",
       "      <td>0.896667</td>\n",
       "    </tr>\n",
       "    <tr>\n",
       "      <th>10</th>\n",
       "      <td>BaggingClassifier</td>\n",
       "      <td>0.91</td>\n",
       "      <td>0.91</td>\n",
       "      <td>0.91</td>\n",
       "      <td>0.91</td>\n",
       "      <td>0.91</td>\n",
       "      <td>0.91</td>\n",
       "      <td>0.09</td>\n",
       "      <td>0.91</td>\n",
       "    </tr>\n",
       "    <tr>\n",
       "      <th>9</th>\n",
       "      <td>AdaBoostClassifier</td>\n",
       "      <td>0.91</td>\n",
       "      <td>0.906667</td>\n",
       "      <td>0.913333</td>\n",
       "      <td>0.912752</td>\n",
       "      <td>0.907285</td>\n",
       "      <td>0.909699</td>\n",
       "      <td>0.086667</td>\n",
       "      <td>0.906667</td>\n",
       "    </tr>\n",
       "    <tr>\n",
       "      <th>16</th>\n",
       "      <td>NuSVC</td>\n",
       "      <td>0.89</td>\n",
       "      <td>0.853333</td>\n",
       "      <td>0.926667</td>\n",
       "      <td>0.920863</td>\n",
       "      <td>0.863354</td>\n",
       "      <td>0.885813</td>\n",
       "      <td>0.073333</td>\n",
       "      <td>0.853333</td>\n",
       "    </tr>\n",
       "    <tr>\n",
       "      <th>5</th>\n",
       "      <td>DecisionTreeClassifier</td>\n",
       "      <td>0.883333</td>\n",
       "      <td>0.886667</td>\n",
       "      <td>0.88</td>\n",
       "      <td>0.880795</td>\n",
       "      <td>0.885906</td>\n",
       "      <td>0.883721</td>\n",
       "      <td>0.12</td>\n",
       "      <td>0.886667</td>\n",
       "    </tr>\n",
       "    <tr>\n",
       "      <th>6</th>\n",
       "      <td>ExtraTreeClassifier</td>\n",
       "      <td>0.88</td>\n",
       "      <td>0.9</td>\n",
       "      <td>0.86</td>\n",
       "      <td>0.865385</td>\n",
       "      <td>0.895833</td>\n",
       "      <td>0.882353</td>\n",
       "      <td>0.14</td>\n",
       "      <td>0.9</td>\n",
       "    </tr>\n",
       "    <tr>\n",
       "      <th>0</th>\n",
       "      <td>LogisticRegression</td>\n",
       "      <td>0.861667</td>\n",
       "      <td>0.806667</td>\n",
       "      <td>0.916667</td>\n",
       "      <td>0.906367</td>\n",
       "      <td>0.825826</td>\n",
       "      <td>0.853616</td>\n",
       "      <td>0.083333</td>\n",
       "      <td>0.806667</td>\n",
       "    </tr>\n",
       "    <tr>\n",
       "      <th>15</th>\n",
       "      <td>LinearSVC</td>\n",
       "      <td>0.851667</td>\n",
       "      <td>0.793333</td>\n",
       "      <td>0.91</td>\n",
       "      <td>0.898113</td>\n",
       "      <td>0.814925</td>\n",
       "      <td>0.842478</td>\n",
       "      <td>0.09</td>\n",
       "      <td>0.793333</td>\n",
       "    </tr>\n",
       "    <tr>\n",
       "      <th>3</th>\n",
       "      <td>RidgeClassifier</td>\n",
       "      <td>0.825</td>\n",
       "      <td>0.726667</td>\n",
       "      <td>0.923333</td>\n",
       "      <td>0.904564</td>\n",
       "      <td>0.771588</td>\n",
       "      <td>0.805915</td>\n",
       "      <td>0.076667</td>\n",
       "      <td>0.726667</td>\n",
       "    </tr>\n",
       "    <tr>\n",
       "      <th>2</th>\n",
       "      <td>SGDClassifier</td>\n",
       "      <td>0.801667</td>\n",
       "      <td>0.813333</td>\n",
       "      <td>0.79</td>\n",
       "      <td>0.794788</td>\n",
       "      <td>0.808874</td>\n",
       "      <td>0.803954</td>\n",
       "      <td>0.21</td>\n",
       "      <td>0.813333</td>\n",
       "    </tr>\n",
       "    <tr>\n",
       "      <th>4</th>\n",
       "      <td>RidgeClassifierCV</td>\n",
       "      <td>0.82</td>\n",
       "      <td>0.72</td>\n",
       "      <td>0.92</td>\n",
       "      <td>0.9</td>\n",
       "      <td>0.766667</td>\n",
       "      <td>0.8</td>\n",
       "      <td>0.08</td>\n",
       "      <td>0.72</td>\n",
       "    </tr>\n",
       "    <tr>\n",
       "      <th>1</th>\n",
       "      <td>Perceptron</td>\n",
       "      <td>0.785</td>\n",
       "      <td>0.783333</td>\n",
       "      <td>0.786667</td>\n",
       "      <td>0.785953</td>\n",
       "      <td>0.784053</td>\n",
       "      <td>0.784641</td>\n",
       "      <td>0.213333</td>\n",
       "      <td>0.783333</td>\n",
       "    </tr>\n",
       "    <tr>\n",
       "      <th>18</th>\n",
       "      <td>BernoulliNB</td>\n",
       "      <td>0.798333</td>\n",
       "      <td>0.666667</td>\n",
       "      <td>0.93</td>\n",
       "      <td>0.904977</td>\n",
       "      <td>0.736148</td>\n",
       "      <td>0.767754</td>\n",
       "      <td>0.07</td>\n",
       "      <td>0.666667</td>\n",
       "    </tr>\n",
       "    <tr>\n",
       "      <th>14</th>\n",
       "      <td>NearestCentroid</td>\n",
       "      <td>0.788333</td>\n",
       "      <td>0.643333</td>\n",
       "      <td>0.933333</td>\n",
       "      <td>0.906103</td>\n",
       "      <td>0.723514</td>\n",
       "      <td>0.752437</td>\n",
       "      <td>0.066667</td>\n",
       "      <td>0.643333</td>\n",
       "    </tr>\n",
       "    <tr>\n",
       "      <th>19</th>\n",
       "      <td>GaussianNB</td>\n",
       "      <td>0.69</td>\n",
       "      <td>0.423333</td>\n",
       "      <td>0.956667</td>\n",
       "      <td>0.907143</td>\n",
       "      <td>0.623913</td>\n",
       "      <td>0.577273</td>\n",
       "      <td>0.043333</td>\n",
       "      <td>0.423333</td>\n",
       "    </tr>\n",
       "  </tbody>\n",
       "</table>\n",
       "</div>"
      ],
      "text/plain": [
       "                     Model  Accuracy Sensitivity Specificity  \\\n",
       "12          LGBMClassifier  0.936667    0.946667    0.926667   \n",
       "11           XGBClassifier  0.931667    0.946667    0.916667   \n",
       "8     ExtraTreesClassifier  0.931667        0.94    0.923333   \n",
       "7   RandomForestClassifier  0.916667        0.93    0.903333   \n",
       "13    KNeighborsClassifier  0.913333    0.936667        0.89   \n",
       "17                     SVC  0.911667    0.896667    0.926667   \n",
       "10       BaggingClassifier      0.91        0.91        0.91   \n",
       "9       AdaBoostClassifier      0.91    0.906667    0.913333   \n",
       "16                   NuSVC      0.89    0.853333    0.926667   \n",
       "5   DecisionTreeClassifier  0.883333    0.886667        0.88   \n",
       "6      ExtraTreeClassifier      0.88         0.9        0.86   \n",
       "0       LogisticRegression  0.861667    0.806667    0.916667   \n",
       "15               LinearSVC  0.851667    0.793333        0.91   \n",
       "3          RidgeClassifier     0.825    0.726667    0.923333   \n",
       "2            SGDClassifier  0.801667    0.813333        0.79   \n",
       "4        RidgeClassifierCV      0.82        0.72        0.92   \n",
       "1               Perceptron     0.785    0.783333    0.786667   \n",
       "18             BernoulliNB  0.798333    0.666667        0.93   \n",
       "14         NearestCentroid  0.788333    0.643333    0.933333   \n",
       "19              GaussianNB      0.69    0.423333    0.956667   \n",
       "\n",
       "   Positive Predictive Value Negative Predictive Value  F1-score  \\\n",
       "12                  0.928105                  0.945578  0.937294   \n",
       "11                  0.919094                  0.945017  0.932677   \n",
       "8                    0.92459                  0.938983  0.932231   \n",
       "7                   0.905844                  0.928082  0.917763   \n",
       "13                  0.894904                  0.933566  0.915309   \n",
       "17                  0.924399                  0.899676  0.910321   \n",
       "10                      0.91                      0.91      0.91   \n",
       "9                   0.912752                  0.907285  0.909699   \n",
       "16                  0.920863                  0.863354  0.885813   \n",
       "5                   0.880795                  0.885906  0.883721   \n",
       "6                   0.865385                  0.895833  0.882353   \n",
       "0                   0.906367                  0.825826  0.853616   \n",
       "15                  0.898113                  0.814925  0.842478   \n",
       "3                   0.904564                  0.771588  0.805915   \n",
       "2                   0.794788                  0.808874  0.803954   \n",
       "4                        0.9                  0.766667       0.8   \n",
       "1                   0.785953                  0.784053  0.784641   \n",
       "18                  0.904977                  0.736148  0.767754   \n",
       "14                  0.906103                  0.723514  0.752437   \n",
       "19                  0.907143                  0.623913  0.577273   \n",
       "\n",
       "   False Positive Rate True Positive Rate  \n",
       "12            0.073333           0.946667  \n",
       "11            0.083333           0.946667  \n",
       "8             0.076667               0.94  \n",
       "7             0.096667               0.93  \n",
       "13                0.11           0.936667  \n",
       "17            0.073333           0.896667  \n",
       "10                0.09               0.91  \n",
       "9             0.086667           0.906667  \n",
       "16            0.073333           0.853333  \n",
       "5                 0.12           0.886667  \n",
       "6                 0.14                0.9  \n",
       "0             0.083333           0.806667  \n",
       "15                0.09           0.793333  \n",
       "3             0.076667           0.726667  \n",
       "2                 0.21           0.813333  \n",
       "4                 0.08               0.72  \n",
       "1             0.213333           0.783333  \n",
       "18                0.07           0.666667  \n",
       "14            0.066667           0.643333  \n",
       "19            0.043333           0.423333  "
      ]
     },
     "execution_count": 13,
     "metadata": {},
     "output_type": "execute_result"
    }
   ],
   "source": [
    "# Perfrom model evaluation on SMOTE scaled data\n",
    "smt_scaled_results = train_models(X_smt_scaled, y_smt, models)\n",
    "smt_scaled_results"
   ]
  },
  {
   "cell_type": "code",
   "execution_count": 14,
   "id": "7cb372b6",
   "metadata": {},
   "outputs": [
    {
     "name": "stderr",
     "output_type": "stream",
     "text": [
      "Training Models:   5%|███▏                                                           | 1/20 [00:09<02:58,  9.39s/model]"
     ]
    },
    {
     "name": "stdout",
     "output_type": "stream",
     "text": [
      "LogisticRegression(random_state=42) - successfully trained\n"
     ]
    },
    {
     "name": "stderr",
     "output_type": "stream",
     "text": [
      "Training Models:  10%|██████▎                                                        | 2/20 [00:11<01:29,  4.95s/model]"
     ]
    },
    {
     "name": "stdout",
     "output_type": "stream",
     "text": [
      "Perceptron(random_state=42) - successfully trained\n"
     ]
    },
    {
     "name": "stderr",
     "output_type": "stream",
     "text": [
      "Training Models:  15%|█████████▍                                                     | 3/20 [00:12<00:58,  3.45s/model]"
     ]
    },
    {
     "name": "stdout",
     "output_type": "stream",
     "text": [
      "SGDClassifier(random_state=42) - successfully trained\n"
     ]
    },
    {
     "name": "stderr",
     "output_type": "stream",
     "text": [
      "Training Models:  20%|████████████▌                                                  | 4/20 [00:14<00:40,  2.56s/model]"
     ]
    },
    {
     "name": "stdout",
     "output_type": "stream",
     "text": [
      "RidgeClassifier(random_state=42) - successfully trained\n"
     ]
    },
    {
     "name": "stderr",
     "output_type": "stream",
     "text": [
      "Training Models:  25%|███████████████▊                                               | 5/20 [00:15<00:32,  2.16s/model]"
     ]
    },
    {
     "name": "stdout",
     "output_type": "stream",
     "text": [
      "RidgeClassifierCV(alphas=array([ 0.1,  1. , 10. ])) - successfully trained\n"
     ]
    },
    {
     "name": "stderr",
     "output_type": "stream",
     "text": [
      "Training Models:  30%|██████████████████▉                                            | 6/20 [00:17<00:29,  2.13s/model]"
     ]
    },
    {
     "name": "stdout",
     "output_type": "stream",
     "text": [
      "DecisionTreeClassifier(random_state=42) - successfully trained\n"
     ]
    },
    {
     "name": "stderr",
     "output_type": "stream",
     "text": [
      "Training Models:  35%|██████████████████████                                         | 7/20 [00:18<00:23,  1.79s/model]"
     ]
    },
    {
     "name": "stdout",
     "output_type": "stream",
     "text": [
      "ExtraTreeClassifier(random_state=42) - successfully trained\n"
     ]
    },
    {
     "name": "stderr",
     "output_type": "stream",
     "text": [
      "Training Models:  40%|█████████████████████████▏                                     | 8/20 [01:11<03:35, 17.98s/model]"
     ]
    },
    {
     "name": "stdout",
     "output_type": "stream",
     "text": [
      "RandomForestClassifier(random_state=42) - successfully trained\n"
     ]
    },
    {
     "name": "stderr",
     "output_type": "stream",
     "text": [
      "Training Models:  45%|████████████████████████████▎                                  | 9/20 [01:49<04:26, 24.24s/model]"
     ]
    },
    {
     "name": "stdout",
     "output_type": "stream",
     "text": [
      "ExtraTreesClassifier(random_state=42) - successfully trained\n"
     ]
    },
    {
     "name": "stderr",
     "output_type": "stream",
     "text": [
      "Training Models:  50%|███████████████████████████████                               | 10/20 [02:17<04:14, 25.49s/model]"
     ]
    },
    {
     "name": "stdout",
     "output_type": "stream",
     "text": [
      "AdaBoostClassifier(random_state=42) - successfully trained\n"
     ]
    },
    {
     "name": "stderr",
     "output_type": "stream",
     "text": [
      "Training Models:  55%|██████████████████████████████████                            | 11/20 [02:28<03:09, 21.02s/model]"
     ]
    },
    {
     "name": "stdout",
     "output_type": "stream",
     "text": [
      "BaggingClassifier(random_state=42) - successfully trained\n"
     ]
    },
    {
     "name": "stderr",
     "output_type": "stream",
     "text": [
      "Training Models:  60%|█████████████████████████████████████▏                        | 12/20 [02:57<03:08, 23.50s/model]"
     ]
    },
    {
     "name": "stdout",
     "output_type": "stream",
     "text": [
      "XGBClassifier(base_score=None, booster=None, callbacks=None,\n",
      "              colsample_bylevel=None, colsample_bynode=None,\n",
      "              colsample_bytree=None, early_stopping_rounds=None,\n",
      "              enable_categorical=False, eval_metric=None, feature_types=None,\n",
      "              gamma=None, gpu_id=None, grow_policy=None, importance_type=None,\n",
      "              interaction_constraints=None, learning_rate=None, max_bin=None,\n",
      "              max_cat_threshold=None, max_cat_to_onehot=None,\n",
      "              max_delta_step=None, max_depth=None, max_leaves=None,\n",
      "              min_child_weight=None, missing=nan, monotone_constraints=None,\n",
      "              n_estimators=100, n_jobs=None, num_parallel_tree=None,\n",
      "              predictor=None, random_state=42, ...) - successfully trained\n"
     ]
    },
    {
     "name": "stderr",
     "output_type": "stream",
     "text": [
      "Training Models:  65%|████████████████████████████████████████▎                     | 13/20 [03:19<02:40, 22.88s/model]"
     ]
    },
    {
     "name": "stdout",
     "output_type": "stream",
     "text": [
      "LGBMClassifier(random_state=42) - successfully trained\n"
     ]
    },
    {
     "name": "stderr",
     "output_type": "stream",
     "text": [
      "Training Models:  70%|███████████████████████████████████████████▍                  | 14/20 [03:20<01:38, 16.35s/model]"
     ]
    },
    {
     "name": "stdout",
     "output_type": "stream",
     "text": [
      "KNeighborsClassifier() - successfully trained\n"
     ]
    },
    {
     "name": "stderr",
     "output_type": "stream",
     "text": [
      "Training Models:  75%|██████████████████████████████████████████████▌               | 15/20 [03:21<00:58, 11.71s/model]"
     ]
    },
    {
     "name": "stdout",
     "output_type": "stream",
     "text": [
      "NearestCentroid() - successfully trained\n"
     ]
    },
    {
     "name": "stderr",
     "output_type": "stream",
     "text": [
      "Training Models:  80%|█████████████████████████████████████████████████▌            | 16/20 [03:30<00:44, 11.07s/model]"
     ]
    },
    {
     "name": "stdout",
     "output_type": "stream",
     "text": [
      "LinearSVC(random_state=42) - successfully trained\n"
     ]
    },
    {
     "name": "stderr",
     "output_type": "stream",
     "text": [
      "Training Models:  85%|████████████████████████████████████████████████████▋         | 17/20 [03:37<00:29,  9.75s/model]"
     ]
    },
    {
     "name": "stdout",
     "output_type": "stream",
     "text": [
      "NuSVC(random_state=42) - successfully trained\n"
     ]
    },
    {
     "name": "stderr",
     "output_type": "stream",
     "text": [
      "Training Models:  90%|███████████████████████████████████████████████████████▊      | 18/20 [03:45<00:18,  9.25s/model]"
     ]
    },
    {
     "name": "stdout",
     "output_type": "stream",
     "text": [
      "SVC(random_state=42) - successfully trained\n"
     ]
    },
    {
     "name": "stderr",
     "output_type": "stream",
     "text": [
      "Training Models:  95%|██████████████████████████████████████████████████████████▉   | 19/20 [03:46<00:06,  6.84s/model]"
     ]
    },
    {
     "name": "stdout",
     "output_type": "stream",
     "text": [
      "BernoulliNB() - successfully trained\n"
     ]
    },
    {
     "name": "stderr",
     "output_type": "stream",
     "text": [
      "Training Models: 100%|██████████████████████████████████████████████████████████████| 20/20 [03:48<00:00, 11.41s/model]"
     ]
    },
    {
     "name": "stdout",
     "output_type": "stream",
     "text": [
      "GaussianNB() - successfully trained\n"
     ]
    },
    {
     "name": "stderr",
     "output_type": "stream",
     "text": [
      "\n"
     ]
    },
    {
     "data": {
      "text/html": [
       "<div>\n",
       "<style scoped>\n",
       "    .dataframe tbody tr th:only-of-type {\n",
       "        vertical-align: middle;\n",
       "    }\n",
       "\n",
       "    .dataframe tbody tr th {\n",
       "        vertical-align: top;\n",
       "    }\n",
       "\n",
       "    .dataframe thead th {\n",
       "        text-align: right;\n",
       "    }\n",
       "</style>\n",
       "<table border=\"1\" class=\"dataframe\">\n",
       "  <thead>\n",
       "    <tr style=\"text-align: right;\">\n",
       "      <th></th>\n",
       "      <th>Model</th>\n",
       "      <th>Accuracy</th>\n",
       "      <th>Sensitivity</th>\n",
       "      <th>Specificity</th>\n",
       "      <th>Positive Predictive Value</th>\n",
       "      <th>Negative Predictive Value</th>\n",
       "      <th>F1-score</th>\n",
       "      <th>False Positive Rate</th>\n",
       "      <th>True Positive Rate</th>\n",
       "    </tr>\n",
       "  </thead>\n",
       "  <tbody>\n",
       "    <tr>\n",
       "      <th>12</th>\n",
       "      <td>LGBMClassifier</td>\n",
       "      <td>0.938333</td>\n",
       "      <td>0.95</td>\n",
       "      <td>0.926667</td>\n",
       "      <td>0.928339</td>\n",
       "      <td>0.948805</td>\n",
       "      <td>0.939044</td>\n",
       "      <td>0.073333</td>\n",
       "      <td>0.95</td>\n",
       "    </tr>\n",
       "    <tr>\n",
       "      <th>8</th>\n",
       "      <td>ExtraTreesClassifier</td>\n",
       "      <td>0.936667</td>\n",
       "      <td>0.94</td>\n",
       "      <td>0.933333</td>\n",
       "      <td>0.933775</td>\n",
       "      <td>0.939597</td>\n",
       "      <td>0.936877</td>\n",
       "      <td>0.066667</td>\n",
       "      <td>0.94</td>\n",
       "    </tr>\n",
       "    <tr>\n",
       "      <th>11</th>\n",
       "      <td>XGBClassifier</td>\n",
       "      <td>0.933333</td>\n",
       "      <td>0.95</td>\n",
       "      <td>0.916667</td>\n",
       "      <td>0.919355</td>\n",
       "      <td>0.948276</td>\n",
       "      <td>0.934426</td>\n",
       "      <td>0.083333</td>\n",
       "      <td>0.95</td>\n",
       "    </tr>\n",
       "    <tr>\n",
       "      <th>13</th>\n",
       "      <td>KNeighborsClassifier</td>\n",
       "      <td>0.931667</td>\n",
       "      <td>0.933333</td>\n",
       "      <td>0.93</td>\n",
       "      <td>0.930233</td>\n",
       "      <td>0.93311</td>\n",
       "      <td>0.93178</td>\n",
       "      <td>0.07</td>\n",
       "      <td>0.933333</td>\n",
       "    </tr>\n",
       "    <tr>\n",
       "      <th>7</th>\n",
       "      <td>RandomForestClassifier</td>\n",
       "      <td>0.921667</td>\n",
       "      <td>0.936667</td>\n",
       "      <td>0.906667</td>\n",
       "      <td>0.909385</td>\n",
       "      <td>0.934708</td>\n",
       "      <td>0.922824</td>\n",
       "      <td>0.093333</td>\n",
       "      <td>0.936667</td>\n",
       "    </tr>\n",
       "    <tr>\n",
       "      <th>9</th>\n",
       "      <td>AdaBoostClassifier</td>\n",
       "      <td>0.911667</td>\n",
       "      <td>0.9</td>\n",
       "      <td>0.923333</td>\n",
       "      <td>0.921502</td>\n",
       "      <td>0.90228</td>\n",
       "      <td>0.910624</td>\n",
       "      <td>0.076667</td>\n",
       "      <td>0.9</td>\n",
       "    </tr>\n",
       "    <tr>\n",
       "      <th>10</th>\n",
       "      <td>BaggingClassifier</td>\n",
       "      <td>0.906667</td>\n",
       "      <td>0.906667</td>\n",
       "      <td>0.906667</td>\n",
       "      <td>0.906667</td>\n",
       "      <td>0.906667</td>\n",
       "      <td>0.906667</td>\n",
       "      <td>0.093333</td>\n",
       "      <td>0.906667</td>\n",
       "    </tr>\n",
       "    <tr>\n",
       "      <th>5</th>\n",
       "      <td>DecisionTreeClassifier</td>\n",
       "      <td>0.881667</td>\n",
       "      <td>0.883333</td>\n",
       "      <td>0.88</td>\n",
       "      <td>0.880399</td>\n",
       "      <td>0.882943</td>\n",
       "      <td>0.881864</td>\n",
       "      <td>0.12</td>\n",
       "      <td>0.883333</td>\n",
       "    </tr>\n",
       "    <tr>\n",
       "      <th>6</th>\n",
       "      <td>ExtraTreeClassifier</td>\n",
       "      <td>0.87</td>\n",
       "      <td>0.873333</td>\n",
       "      <td>0.866667</td>\n",
       "      <td>0.86755</td>\n",
       "      <td>0.872483</td>\n",
       "      <td>0.870432</td>\n",
       "      <td>0.133333</td>\n",
       "      <td>0.873333</td>\n",
       "    </tr>\n",
       "    <tr>\n",
       "      <th>0</th>\n",
       "      <td>LogisticRegression</td>\n",
       "      <td>0.87</td>\n",
       "      <td>0.816667</td>\n",
       "      <td>0.923333</td>\n",
       "      <td>0.914179</td>\n",
       "      <td>0.834337</td>\n",
       "      <td>0.862676</td>\n",
       "      <td>0.076667</td>\n",
       "      <td>0.816667</td>\n",
       "    </tr>\n",
       "    <tr>\n",
       "      <th>16</th>\n",
       "      <td>NuSVC</td>\n",
       "      <td>0.84</td>\n",
       "      <td>0.756667</td>\n",
       "      <td>0.923333</td>\n",
       "      <td>0.908</td>\n",
       "      <td>0.791429</td>\n",
       "      <td>0.825455</td>\n",
       "      <td>0.076667</td>\n",
       "      <td>0.756667</td>\n",
       "    </tr>\n",
       "    <tr>\n",
       "      <th>4</th>\n",
       "      <td>RidgeClassifierCV</td>\n",
       "      <td>0.825</td>\n",
       "      <td>0.73</td>\n",
       "      <td>0.92</td>\n",
       "      <td>0.901235</td>\n",
       "      <td>0.773109</td>\n",
       "      <td>0.80663</td>\n",
       "      <td>0.08</td>\n",
       "      <td>0.73</td>\n",
       "    </tr>\n",
       "    <tr>\n",
       "      <th>3</th>\n",
       "      <td>RidgeClassifier</td>\n",
       "      <td>0.825</td>\n",
       "      <td>0.73</td>\n",
       "      <td>0.92</td>\n",
       "      <td>0.901235</td>\n",
       "      <td>0.773109</td>\n",
       "      <td>0.80663</td>\n",
       "      <td>0.08</td>\n",
       "      <td>0.73</td>\n",
       "    </tr>\n",
       "    <tr>\n",
       "      <th>2</th>\n",
       "      <td>SGDClassifier</td>\n",
       "      <td>0.8</td>\n",
       "      <td>0.77</td>\n",
       "      <td>0.83</td>\n",
       "      <td>0.819149</td>\n",
       "      <td>0.783019</td>\n",
       "      <td>0.793814</td>\n",
       "      <td>0.17</td>\n",
       "      <td>0.77</td>\n",
       "    </tr>\n",
       "    <tr>\n",
       "      <th>15</th>\n",
       "      <td>LinearSVC</td>\n",
       "      <td>0.753333</td>\n",
       "      <td>0.76</td>\n",
       "      <td>0.746667</td>\n",
       "      <td>0.75</td>\n",
       "      <td>0.756757</td>\n",
       "      <td>0.754967</td>\n",
       "      <td>0.253333</td>\n",
       "      <td>0.76</td>\n",
       "    </tr>\n",
       "    <tr>\n",
       "      <th>1</th>\n",
       "      <td>Perceptron</td>\n",
       "      <td>0.745</td>\n",
       "      <td>0.776667</td>\n",
       "      <td>0.713333</td>\n",
       "      <td>0.730408</td>\n",
       "      <td>0.761566</td>\n",
       "      <td>0.752827</td>\n",
       "      <td>0.286667</td>\n",
       "      <td>0.776667</td>\n",
       "    </tr>\n",
       "    <tr>\n",
       "      <th>18</th>\n",
       "      <td>BernoulliNB</td>\n",
       "      <td>0.636667</td>\n",
       "      <td>0.73</td>\n",
       "      <td>0.543333</td>\n",
       "      <td>0.615169</td>\n",
       "      <td>0.668033</td>\n",
       "      <td>0.667683</td>\n",
       "      <td>0.456667</td>\n",
       "      <td>0.73</td>\n",
       "    </tr>\n",
       "    <tr>\n",
       "      <th>19</th>\n",
       "      <td>GaussianNB</td>\n",
       "      <td>0.69</td>\n",
       "      <td>0.423333</td>\n",
       "      <td>0.956667</td>\n",
       "      <td>0.907143</td>\n",
       "      <td>0.623913</td>\n",
       "      <td>0.577273</td>\n",
       "      <td>0.043333</td>\n",
       "      <td>0.423333</td>\n",
       "    </tr>\n",
       "    <tr>\n",
       "      <th>14</th>\n",
       "      <td>NearestCentroid</td>\n",
       "      <td>0.526667</td>\n",
       "      <td>0.053333</td>\n",
       "      <td>1.0</td>\n",
       "      <td>1.0</td>\n",
       "      <td>0.513699</td>\n",
       "      <td>0.101266</td>\n",
       "      <td>0.0</td>\n",
       "      <td>0.053333</td>\n",
       "    </tr>\n",
       "    <tr>\n",
       "      <th>17</th>\n",
       "      <td>SVC</td>\n",
       "      <td>0.523333</td>\n",
       "      <td>0.05</td>\n",
       "      <td>0.996667</td>\n",
       "      <td>0.9375</td>\n",
       "      <td>0.511986</td>\n",
       "      <td>0.094937</td>\n",
       "      <td>0.003333</td>\n",
       "      <td>0.05</td>\n",
       "    </tr>\n",
       "  </tbody>\n",
       "</table>\n",
       "</div>"
      ],
      "text/plain": [
       "                     Model  Accuracy Sensitivity Specificity  \\\n",
       "12          LGBMClassifier  0.938333        0.95    0.926667   \n",
       "8     ExtraTreesClassifier  0.936667        0.94    0.933333   \n",
       "11           XGBClassifier  0.933333        0.95    0.916667   \n",
       "13    KNeighborsClassifier  0.931667    0.933333        0.93   \n",
       "7   RandomForestClassifier  0.921667    0.936667    0.906667   \n",
       "9       AdaBoostClassifier  0.911667         0.9    0.923333   \n",
       "10       BaggingClassifier  0.906667    0.906667    0.906667   \n",
       "5   DecisionTreeClassifier  0.881667    0.883333        0.88   \n",
       "6      ExtraTreeClassifier      0.87    0.873333    0.866667   \n",
       "0       LogisticRegression      0.87    0.816667    0.923333   \n",
       "16                   NuSVC      0.84    0.756667    0.923333   \n",
       "4        RidgeClassifierCV     0.825        0.73        0.92   \n",
       "3          RidgeClassifier     0.825        0.73        0.92   \n",
       "2            SGDClassifier       0.8        0.77        0.83   \n",
       "15               LinearSVC  0.753333        0.76    0.746667   \n",
       "1               Perceptron     0.745    0.776667    0.713333   \n",
       "18             BernoulliNB  0.636667        0.73    0.543333   \n",
       "19              GaussianNB      0.69    0.423333    0.956667   \n",
       "14         NearestCentroid  0.526667    0.053333         1.0   \n",
       "17                     SVC  0.523333        0.05    0.996667   \n",
       "\n",
       "   Positive Predictive Value Negative Predictive Value  F1-score  \\\n",
       "12                  0.928339                  0.948805  0.939044   \n",
       "8                   0.933775                  0.939597  0.936877   \n",
       "11                  0.919355                  0.948276  0.934426   \n",
       "13                  0.930233                   0.93311   0.93178   \n",
       "7                   0.909385                  0.934708  0.922824   \n",
       "9                   0.921502                   0.90228  0.910624   \n",
       "10                  0.906667                  0.906667  0.906667   \n",
       "5                   0.880399                  0.882943  0.881864   \n",
       "6                    0.86755                  0.872483  0.870432   \n",
       "0                   0.914179                  0.834337  0.862676   \n",
       "16                     0.908                  0.791429  0.825455   \n",
       "4                   0.901235                  0.773109   0.80663   \n",
       "3                   0.901235                  0.773109   0.80663   \n",
       "2                   0.819149                  0.783019  0.793814   \n",
       "15                      0.75                  0.756757  0.754967   \n",
       "1                   0.730408                  0.761566  0.752827   \n",
       "18                  0.615169                  0.668033  0.667683   \n",
       "19                  0.907143                  0.623913  0.577273   \n",
       "14                       1.0                  0.513699  0.101266   \n",
       "17                    0.9375                  0.511986  0.094937   \n",
       "\n",
       "   False Positive Rate True Positive Rate  \n",
       "12            0.073333               0.95  \n",
       "8             0.066667               0.94  \n",
       "11            0.083333               0.95  \n",
       "13                0.07           0.933333  \n",
       "7             0.093333           0.936667  \n",
       "9             0.076667                0.9  \n",
       "10            0.093333           0.906667  \n",
       "5                 0.12           0.883333  \n",
       "6             0.133333           0.873333  \n",
       "0             0.076667           0.816667  \n",
       "16            0.076667           0.756667  \n",
       "4                 0.08               0.73  \n",
       "3                 0.08               0.73  \n",
       "2                 0.17               0.77  \n",
       "15            0.253333               0.76  \n",
       "1             0.286667           0.776667  \n",
       "18            0.456667               0.73  \n",
       "19            0.043333           0.423333  \n",
       "14                 0.0           0.053333  \n",
       "17            0.003333               0.05  "
      ]
     },
     "execution_count": 14,
     "metadata": {},
     "output_type": "execute_result"
    }
   ],
   "source": [
    "# Perfrom model evaluation on SMOTE un-scaled data\n",
    "smt_results = train_models(X_smt, y_smt, models)\n",
    "smt_results"
   ]
  },
  {
   "cell_type": "code",
   "execution_count": 15,
   "id": "eae35dcc",
   "metadata": {},
   "outputs": [
    {
     "name": "stderr",
     "output_type": "stream",
     "text": [
      "Training Models:   5%|███▏                                                           | 1/20 [00:03<01:00,  3.20s/model]"
     ]
    },
    {
     "name": "stdout",
     "output_type": "stream",
     "text": [
      "LogisticRegression(random_state=42) - successfully trained\n"
     ]
    },
    {
     "name": "stderr",
     "output_type": "stream",
     "text": [
      "Training Models:  10%|██████▎                                                        | 2/20 [00:03<00:31,  1.78s/model]"
     ]
    },
    {
     "name": "stdout",
     "output_type": "stream",
     "text": [
      "Perceptron(random_state=42) - successfully trained\n"
     ]
    },
    {
     "name": "stderr",
     "output_type": "stream",
     "text": [
      "Training Models:  15%|█████████▍                                                     | 3/20 [00:05<00:24,  1.47s/model]"
     ]
    },
    {
     "name": "stdout",
     "output_type": "stream",
     "text": [
      "SGDClassifier(random_state=42) - successfully trained\n"
     ]
    },
    {
     "name": "stderr",
     "output_type": "stream",
     "text": [
      "Training Models:  20%|████████████▌                                                  | 4/20 [00:05<00:19,  1.20s/model]"
     ]
    },
    {
     "name": "stdout",
     "output_type": "stream",
     "text": [
      "RidgeClassifier(random_state=42) - successfully trained\n"
     ]
    },
    {
     "name": "stderr",
     "output_type": "stream",
     "text": [
      "Training Models:  25%|███████████████▊                                               | 5/20 [00:06<00:16,  1.09s/model]"
     ]
    },
    {
     "name": "stdout",
     "output_type": "stream",
     "text": [
      "RidgeClassifierCV(alphas=array([ 0.1,  1. , 10. ])) - successfully trained\n"
     ]
    },
    {
     "name": "stderr",
     "output_type": "stream",
     "text": [
      "Training Models:  30%|██████████████████▉                                            | 6/20 [00:08<00:16,  1.15s/model]"
     ]
    },
    {
     "name": "stdout",
     "output_type": "stream",
     "text": [
      "DecisionTreeClassifier(random_state=42) - successfully trained\n"
     ]
    },
    {
     "name": "stderr",
     "output_type": "stream",
     "text": [
      "Training Models:  35%|██████████████████████                                         | 7/20 [00:08<00:12,  1.01model/s]"
     ]
    },
    {
     "name": "stdout",
     "output_type": "stream",
     "text": [
      "ExtraTreeClassifier(random_state=42) - successfully trained\n"
     ]
    },
    {
     "name": "stderr",
     "output_type": "stream",
     "text": [
      "Training Models:  40%|█████████████████████████▏                                     | 8/20 [00:58<03:19, 16.64s/model]"
     ]
    },
    {
     "name": "stdout",
     "output_type": "stream",
     "text": [
      "RandomForestClassifier(random_state=42) - successfully trained\n"
     ]
    },
    {
     "name": "stderr",
     "output_type": "stream",
     "text": [
      "Training Models:  45%|████████████████████████████▎                                  | 9/20 [01:36<04:15, 23.25s/model]"
     ]
    },
    {
     "name": "stdout",
     "output_type": "stream",
     "text": [
      "ExtraTreesClassifier(random_state=42) - successfully trained\n"
     ]
    },
    {
     "name": "stderr",
     "output_type": "stream",
     "text": [
      "Training Models:  50%|███████████████████████████████                               | 10/20 [02:11<04:27, 26.71s/model]"
     ]
    },
    {
     "name": "stdout",
     "output_type": "stream",
     "text": [
      "AdaBoostClassifier(random_state=42) - successfully trained\n"
     ]
    },
    {
     "name": "stderr",
     "output_type": "stream",
     "text": [
      "Training Models:  55%|██████████████████████████████████                            | 11/20 [02:24<03:24, 22.76s/model]"
     ]
    },
    {
     "name": "stdout",
     "output_type": "stream",
     "text": [
      "BaggingClassifier(random_state=42) - successfully trained\n"
     ]
    },
    {
     "name": "stderr",
     "output_type": "stream",
     "text": [
      "Training Models:  60%|█████████████████████████████████████▏                        | 12/20 [03:01<03:35, 26.96s/model]"
     ]
    },
    {
     "name": "stdout",
     "output_type": "stream",
     "text": [
      "XGBClassifier(base_score=None, booster=None, callbacks=None,\n",
      "              colsample_bylevel=None, colsample_bynode=None,\n",
      "              colsample_bytree=None, early_stopping_rounds=None,\n",
      "              enable_categorical=False, eval_metric=None, feature_types=None,\n",
      "              gamma=None, gpu_id=None, grow_policy=None, importance_type=None,\n",
      "              interaction_constraints=None, learning_rate=None, max_bin=None,\n",
      "              max_cat_threshold=None, max_cat_to_onehot=None,\n",
      "              max_delta_step=None, max_depth=None, max_leaves=None,\n",
      "              min_child_weight=None, missing=nan, monotone_constraints=None,\n",
      "              n_estimators=100, n_jobs=None, num_parallel_tree=None,\n",
      "              predictor=None, random_state=42, ...) - successfully trained\n"
     ]
    },
    {
     "name": "stderr",
     "output_type": "stream",
     "text": [
      "Training Models:  65%|████████████████████████████████████████▎                     | 13/20 [03:30<03:13, 27.61s/model]"
     ]
    },
    {
     "name": "stdout",
     "output_type": "stream",
     "text": [
      "LGBMClassifier(random_state=42) - successfully trained\n"
     ]
    },
    {
     "name": "stderr",
     "output_type": "stream",
     "text": [
      "Training Models:  70%|███████████████████████████████████████████▍                  | 14/20 [03:31<01:57, 19.53s/model]"
     ]
    },
    {
     "name": "stdout",
     "output_type": "stream",
     "text": [
      "KNeighborsClassifier() - successfully trained\n"
     ]
    },
    {
     "name": "stderr",
     "output_type": "stream",
     "text": [
      "Training Models:  75%|██████████████████████████████████████████████▌               | 15/20 [03:31<01:09, 13.81s/model]"
     ]
    },
    {
     "name": "stdout",
     "output_type": "stream",
     "text": [
      "NearestCentroid() - successfully trained\n"
     ]
    },
    {
     "name": "stderr",
     "output_type": "stream",
     "text": [
      "Training Models:  80%|█████████████████████████████████████████████████▌            | 16/20 [03:41<00:49, 12.47s/model]"
     ]
    },
    {
     "name": "stdout",
     "output_type": "stream",
     "text": [
      "LinearSVC(random_state=42) - successfully trained\n"
     ]
    },
    {
     "name": "stderr",
     "output_type": "stream",
     "text": [
      "Training Models:  85%|████████████████████████████████████████████████████▋         | 17/20 [03:46<00:30, 10.25s/model]"
     ]
    },
    {
     "name": "stdout",
     "output_type": "stream",
     "text": [
      "NuSVC(random_state=42) - successfully trained\n"
     ]
    },
    {
     "name": "stderr",
     "output_type": "stream",
     "text": [
      "Training Models:  90%|███████████████████████████████████████████████████████▊      | 18/20 [03:50<00:16,  8.28s/model]"
     ]
    },
    {
     "name": "stdout",
     "output_type": "stream",
     "text": [
      "SVC(random_state=42) - successfully trained\n"
     ]
    },
    {
     "name": "stderr",
     "output_type": "stream",
     "text": [
      "Training Models:  95%|██████████████████████████████████████████████████████████▉   | 19/20 [03:50<00:05,  5.98s/model]"
     ]
    },
    {
     "name": "stdout",
     "output_type": "stream",
     "text": [
      "BernoulliNB() - successfully trained\n"
     ]
    },
    {
     "name": "stderr",
     "output_type": "stream",
     "text": [
      "Training Models: 100%|██████████████████████████████████████████████████████████████| 20/20 [03:51<00:00, 11.57s/model]"
     ]
    },
    {
     "name": "stdout",
     "output_type": "stream",
     "text": [
      "GaussianNB() - successfully trained\n"
     ]
    },
    {
     "name": "stderr",
     "output_type": "stream",
     "text": [
      "\n"
     ]
    },
    {
     "data": {
      "text/html": [
       "<div>\n",
       "<style scoped>\n",
       "    .dataframe tbody tr th:only-of-type {\n",
       "        vertical-align: middle;\n",
       "    }\n",
       "\n",
       "    .dataframe tbody tr th {\n",
       "        vertical-align: top;\n",
       "    }\n",
       "\n",
       "    .dataframe thead th {\n",
       "        text-align: right;\n",
       "    }\n",
       "</style>\n",
       "<table border=\"1\" class=\"dataframe\">\n",
       "  <thead>\n",
       "    <tr style=\"text-align: right;\">\n",
       "      <th></th>\n",
       "      <th>Model</th>\n",
       "      <th>Accuracy</th>\n",
       "      <th>Sensitivity</th>\n",
       "      <th>Specificity</th>\n",
       "      <th>Positive Predictive Value</th>\n",
       "      <th>Negative Predictive Value</th>\n",
       "      <th>F1-score</th>\n",
       "      <th>False Positive Rate</th>\n",
       "      <th>True Positive Rate</th>\n",
       "    </tr>\n",
       "  </thead>\n",
       "  <tbody>\n",
       "    <tr>\n",
       "      <th>12</th>\n",
       "      <td>LGBMClassifier</td>\n",
       "      <td>0.944637</td>\n",
       "      <td>0.961938</td>\n",
       "      <td>0.927336</td>\n",
       "      <td>0.929766</td>\n",
       "      <td>0.960573</td>\n",
       "      <td>0.945578</td>\n",
       "      <td>0.072664</td>\n",
       "      <td>0.961938</td>\n",
       "    </tr>\n",
       "    <tr>\n",
       "      <th>8</th>\n",
       "      <td>ExtraTreesClassifier</td>\n",
       "      <td>0.934256</td>\n",
       "      <td>0.948097</td>\n",
       "      <td>0.920415</td>\n",
       "      <td>0.922559</td>\n",
       "      <td>0.946619</td>\n",
       "      <td>0.935154</td>\n",
       "      <td>0.079585</td>\n",
       "      <td>0.948097</td>\n",
       "    </tr>\n",
       "    <tr>\n",
       "      <th>11</th>\n",
       "      <td>XGBClassifier</td>\n",
       "      <td>0.925606</td>\n",
       "      <td>0.941176</td>\n",
       "      <td>0.910035</td>\n",
       "      <td>0.912752</td>\n",
       "      <td>0.939286</td>\n",
       "      <td>0.926746</td>\n",
       "      <td>0.089965</td>\n",
       "      <td>0.941176</td>\n",
       "    </tr>\n",
       "    <tr>\n",
       "      <th>7</th>\n",
       "      <td>RandomForestClassifier</td>\n",
       "      <td>0.920415</td>\n",
       "      <td>0.937716</td>\n",
       "      <td>0.903114</td>\n",
       "      <td>0.906355</td>\n",
       "      <td>0.935484</td>\n",
       "      <td>0.921769</td>\n",
       "      <td>0.096886</td>\n",
       "      <td>0.937716</td>\n",
       "    </tr>\n",
       "    <tr>\n",
       "      <th>13</th>\n",
       "      <td>KNeighborsClassifier</td>\n",
       "      <td>0.901384</td>\n",
       "      <td>0.923875</td>\n",
       "      <td>0.878893</td>\n",
       "      <td>0.884106</td>\n",
       "      <td>0.92029</td>\n",
       "      <td>0.903553</td>\n",
       "      <td>0.121107</td>\n",
       "      <td>0.923875</td>\n",
       "    </tr>\n",
       "    <tr>\n",
       "      <th>10</th>\n",
       "      <td>BaggingClassifier</td>\n",
       "      <td>0.889273</td>\n",
       "      <td>0.906574</td>\n",
       "      <td>0.871972</td>\n",
       "      <td>0.876254</td>\n",
       "      <td>0.903226</td>\n",
       "      <td>0.891156</td>\n",
       "      <td>0.128028</td>\n",
       "      <td>0.906574</td>\n",
       "    </tr>\n",
       "    <tr>\n",
       "      <th>9</th>\n",
       "      <td>AdaBoostClassifier</td>\n",
       "      <td>0.880623</td>\n",
       "      <td>0.910035</td>\n",
       "      <td>0.851211</td>\n",
       "      <td>0.859477</td>\n",
       "      <td>0.904412</td>\n",
       "      <td>0.884034</td>\n",
       "      <td>0.148789</td>\n",
       "      <td>0.910035</td>\n",
       "    </tr>\n",
       "    <tr>\n",
       "      <th>5</th>\n",
       "      <td>DecisionTreeClassifier</td>\n",
       "      <td>0.873702</td>\n",
       "      <td>0.885813</td>\n",
       "      <td>0.861592</td>\n",
       "      <td>0.864865</td>\n",
       "      <td>0.882979</td>\n",
       "      <td>0.875214</td>\n",
       "      <td>0.138408</td>\n",
       "      <td>0.885813</td>\n",
       "    </tr>\n",
       "    <tr>\n",
       "      <th>17</th>\n",
       "      <td>SVC</td>\n",
       "      <td>0.865052</td>\n",
       "      <td>0.885813</td>\n",
       "      <td>0.844291</td>\n",
       "      <td>0.850498</td>\n",
       "      <td>0.880866</td>\n",
       "      <td>0.867797</td>\n",
       "      <td>0.155709</td>\n",
       "      <td>0.885813</td>\n",
       "    </tr>\n",
       "    <tr>\n",
       "      <th>16</th>\n",
       "      <td>NuSVC</td>\n",
       "      <td>0.865052</td>\n",
       "      <td>0.885813</td>\n",
       "      <td>0.844291</td>\n",
       "      <td>0.850498</td>\n",
       "      <td>0.880866</td>\n",
       "      <td>0.867797</td>\n",
       "      <td>0.155709</td>\n",
       "      <td>0.885813</td>\n",
       "    </tr>\n",
       "    <tr>\n",
       "      <th>6</th>\n",
       "      <td>ExtraTreeClassifier</td>\n",
       "      <td>0.856401</td>\n",
       "      <td>0.858131</td>\n",
       "      <td>0.854671</td>\n",
       "      <td>0.855172</td>\n",
       "      <td>0.857639</td>\n",
       "      <td>0.856649</td>\n",
       "      <td>0.145329</td>\n",
       "      <td>0.858131</td>\n",
       "    </tr>\n",
       "    <tr>\n",
       "      <th>4</th>\n",
       "      <td>RidgeClassifierCV</td>\n",
       "      <td>0.743945</td>\n",
       "      <td>0.716263</td>\n",
       "      <td>0.771626</td>\n",
       "      <td>0.758242</td>\n",
       "      <td>0.731148</td>\n",
       "      <td>0.736655</td>\n",
       "      <td>0.228374</td>\n",
       "      <td>0.716263</td>\n",
       "    </tr>\n",
       "    <tr>\n",
       "      <th>0</th>\n",
       "      <td>LogisticRegression</td>\n",
       "      <td>0.735294</td>\n",
       "      <td>0.726644</td>\n",
       "      <td>0.743945</td>\n",
       "      <td>0.739437</td>\n",
       "      <td>0.731293</td>\n",
       "      <td>0.732984</td>\n",
       "      <td>0.256055</td>\n",
       "      <td>0.726644</td>\n",
       "    </tr>\n",
       "    <tr>\n",
       "      <th>3</th>\n",
       "      <td>RidgeClassifier</td>\n",
       "      <td>0.738754</td>\n",
       "      <td>0.716263</td>\n",
       "      <td>0.761246</td>\n",
       "      <td>0.75</td>\n",
       "      <td>0.728477</td>\n",
       "      <td>0.732743</td>\n",
       "      <td>0.238754</td>\n",
       "      <td>0.716263</td>\n",
       "    </tr>\n",
       "    <tr>\n",
       "      <th>15</th>\n",
       "      <td>LinearSVC</td>\n",
       "      <td>0.726644</td>\n",
       "      <td>0.702422</td>\n",
       "      <td>0.750865</td>\n",
       "      <td>0.738182</td>\n",
       "      <td>0.716172</td>\n",
       "      <td>0.719858</td>\n",
       "      <td>0.249135</td>\n",
       "      <td>0.702422</td>\n",
       "    </tr>\n",
       "    <tr>\n",
       "      <th>1</th>\n",
       "      <td>Perceptron</td>\n",
       "      <td>0.66955</td>\n",
       "      <td>0.66436</td>\n",
       "      <td>0.67474</td>\n",
       "      <td>0.671329</td>\n",
       "      <td>0.667808</td>\n",
       "      <td>0.667826</td>\n",
       "      <td>0.32526</td>\n",
       "      <td>0.66436</td>\n",
       "    </tr>\n",
       "    <tr>\n",
       "      <th>2</th>\n",
       "      <td>SGDClassifier</td>\n",
       "      <td>0.66436</td>\n",
       "      <td>0.653979</td>\n",
       "      <td>0.67474</td>\n",
       "      <td>0.667845</td>\n",
       "      <td>0.661017</td>\n",
       "      <td>0.660839</td>\n",
       "      <td>0.32526</td>\n",
       "      <td>0.653979</td>\n",
       "    </tr>\n",
       "    <tr>\n",
       "      <th>14</th>\n",
       "      <td>NearestCentroid</td>\n",
       "      <td>0.692042</td>\n",
       "      <td>0.570934</td>\n",
       "      <td>0.813149</td>\n",
       "      <td>0.753425</td>\n",
       "      <td>0.654596</td>\n",
       "      <td>0.649606</td>\n",
       "      <td>0.186851</td>\n",
       "      <td>0.570934</td>\n",
       "    </tr>\n",
       "    <tr>\n",
       "      <th>18</th>\n",
       "      <td>BernoulliNB</td>\n",
       "      <td>0.66263</td>\n",
       "      <td>0.543253</td>\n",
       "      <td>0.782007</td>\n",
       "      <td>0.713636</td>\n",
       "      <td>0.631285</td>\n",
       "      <td>0.616896</td>\n",
       "      <td>0.217993</td>\n",
       "      <td>0.543253</td>\n",
       "    </tr>\n",
       "    <tr>\n",
       "      <th>19</th>\n",
       "      <td>GaussianNB</td>\n",
       "      <td>0.564014</td>\n",
       "      <td>0.183391</td>\n",
       "      <td>0.944637</td>\n",
       "      <td>0.768116</td>\n",
       "      <td>0.536346</td>\n",
       "      <td>0.296089</td>\n",
       "      <td>0.055363</td>\n",
       "      <td>0.183391</td>\n",
       "    </tr>\n",
       "  </tbody>\n",
       "</table>\n",
       "</div>"
      ],
      "text/plain": [
       "                     Model  Accuracy Sensitivity Specificity  \\\n",
       "12          LGBMClassifier  0.944637    0.961938    0.927336   \n",
       "8     ExtraTreesClassifier  0.934256    0.948097    0.920415   \n",
       "11           XGBClassifier  0.925606    0.941176    0.910035   \n",
       "7   RandomForestClassifier  0.920415    0.937716    0.903114   \n",
       "13    KNeighborsClassifier  0.901384    0.923875    0.878893   \n",
       "10       BaggingClassifier  0.889273    0.906574    0.871972   \n",
       "9       AdaBoostClassifier  0.880623    0.910035    0.851211   \n",
       "5   DecisionTreeClassifier  0.873702    0.885813    0.861592   \n",
       "17                     SVC  0.865052    0.885813    0.844291   \n",
       "16                   NuSVC  0.865052    0.885813    0.844291   \n",
       "6      ExtraTreeClassifier  0.856401    0.858131    0.854671   \n",
       "4        RidgeClassifierCV  0.743945    0.716263    0.771626   \n",
       "0       LogisticRegression  0.735294    0.726644    0.743945   \n",
       "3          RidgeClassifier  0.738754    0.716263    0.761246   \n",
       "15               LinearSVC  0.726644    0.702422    0.750865   \n",
       "1               Perceptron   0.66955     0.66436     0.67474   \n",
       "2            SGDClassifier   0.66436    0.653979     0.67474   \n",
       "14         NearestCentroid  0.692042    0.570934    0.813149   \n",
       "18             BernoulliNB   0.66263    0.543253    0.782007   \n",
       "19              GaussianNB  0.564014    0.183391    0.944637   \n",
       "\n",
       "   Positive Predictive Value Negative Predictive Value  F1-score  \\\n",
       "12                  0.929766                  0.960573  0.945578   \n",
       "8                   0.922559                  0.946619  0.935154   \n",
       "11                  0.912752                  0.939286  0.926746   \n",
       "7                   0.906355                  0.935484  0.921769   \n",
       "13                  0.884106                   0.92029  0.903553   \n",
       "10                  0.876254                  0.903226  0.891156   \n",
       "9                   0.859477                  0.904412  0.884034   \n",
       "5                   0.864865                  0.882979  0.875214   \n",
       "17                  0.850498                  0.880866  0.867797   \n",
       "16                  0.850498                  0.880866  0.867797   \n",
       "6                   0.855172                  0.857639  0.856649   \n",
       "4                   0.758242                  0.731148  0.736655   \n",
       "0                   0.739437                  0.731293  0.732984   \n",
       "3                       0.75                  0.728477  0.732743   \n",
       "15                  0.738182                  0.716172  0.719858   \n",
       "1                   0.671329                  0.667808  0.667826   \n",
       "2                   0.667845                  0.661017  0.660839   \n",
       "14                  0.753425                  0.654596  0.649606   \n",
       "18                  0.713636                  0.631285  0.616896   \n",
       "19                  0.768116                  0.536346  0.296089   \n",
       "\n",
       "   False Positive Rate True Positive Rate  \n",
       "12            0.072664           0.961938  \n",
       "8             0.079585           0.948097  \n",
       "11            0.089965           0.941176  \n",
       "7             0.096886           0.937716  \n",
       "13            0.121107           0.923875  \n",
       "10            0.128028           0.906574  \n",
       "9             0.148789           0.910035  \n",
       "5             0.138408           0.885813  \n",
       "17            0.155709           0.885813  \n",
       "16            0.155709           0.885813  \n",
       "6             0.145329           0.858131  \n",
       "4             0.228374           0.716263  \n",
       "0             0.256055           0.726644  \n",
       "3             0.238754           0.716263  \n",
       "15            0.249135           0.702422  \n",
       "1              0.32526            0.66436  \n",
       "2              0.32526           0.653979  \n",
       "14            0.186851           0.570934  \n",
       "18            0.217993           0.543253  \n",
       "19            0.055363           0.183391  "
      ]
     },
     "execution_count": 15,
     "metadata": {},
     "output_type": "execute_result"
    }
   ],
   "source": [
    "# Perfrom model evaluation on ADASYN scaled data\n",
    "ada_scaled_results = train_models(X_ada_scaled, y_ada, models)\n",
    "ada_scaled_results"
   ]
  },
  {
   "cell_type": "code",
   "execution_count": 16,
   "id": "f8b4b1bb",
   "metadata": {},
   "outputs": [
    {
     "name": "stderr",
     "output_type": "stream",
     "text": [
      "Training Models:   5%|███▏                                                           | 1/20 [00:12<03:54, 12.36s/model]"
     ]
    },
    {
     "name": "stdout",
     "output_type": "stream",
     "text": [
      "LogisticRegression(random_state=42) - successfully trained\n"
     ]
    },
    {
     "name": "stderr",
     "output_type": "stream",
     "text": [
      "Training Models:  10%|██████▎                                                        | 2/20 [00:13<01:45,  5.87s/model]"
     ]
    },
    {
     "name": "stdout",
     "output_type": "stream",
     "text": [
      "Perceptron(random_state=42) - successfully trained\n"
     ]
    },
    {
     "name": "stderr",
     "output_type": "stream",
     "text": [
      "Training Models:  15%|█████████▍                                                     | 3/20 [00:15<01:09,  4.07s/model]"
     ]
    },
    {
     "name": "stdout",
     "output_type": "stream",
     "text": [
      "SGDClassifier(random_state=42) - successfully trained\n"
     ]
    },
    {
     "name": "stderr",
     "output_type": "stream",
     "text": [
      "Training Models:  20%|████████████▌                                                  | 4/20 [00:16<00:46,  2.93s/model]"
     ]
    },
    {
     "name": "stdout",
     "output_type": "stream",
     "text": [
      "RidgeClassifier(random_state=42) - successfully trained\n"
     ]
    },
    {
     "name": "stderr",
     "output_type": "stream",
     "text": [
      "Training Models:  25%|███████████████▊                                               | 5/20 [00:18<00:35,  2.36s/model]"
     ]
    },
    {
     "name": "stdout",
     "output_type": "stream",
     "text": [
      "RidgeClassifierCV(alphas=array([ 0.1,  1. , 10. ])) - successfully trained\n"
     ]
    },
    {
     "name": "stderr",
     "output_type": "stream",
     "text": [
      "Training Models:  30%|██████████████████▉                                            | 6/20 [00:19<00:29,  2.14s/model]"
     ]
    },
    {
     "name": "stdout",
     "output_type": "stream",
     "text": [
      "DecisionTreeClassifier(random_state=42) - successfully trained\n"
     ]
    },
    {
     "name": "stderr",
     "output_type": "stream",
     "text": [
      "Training Models:  35%|██████████████████████                                         | 7/20 [00:20<00:23,  1.79s/model]"
     ]
    },
    {
     "name": "stdout",
     "output_type": "stream",
     "text": [
      "ExtraTreeClassifier(random_state=42) - successfully trained\n"
     ]
    },
    {
     "name": "stderr",
     "output_type": "stream",
     "text": [
      "Training Models:  40%|█████████████████████████▏                                     | 8/20 [01:16<03:47, 18.95s/model]"
     ]
    },
    {
     "name": "stdout",
     "output_type": "stream",
     "text": [
      "RandomForestClassifier(random_state=42) - successfully trained\n"
     ]
    },
    {
     "name": "stderr",
     "output_type": "stream",
     "text": [
      "Training Models:  45%|████████████████████████████▎                                  | 9/20 [01:51<04:22, 23.89s/model]"
     ]
    },
    {
     "name": "stdout",
     "output_type": "stream",
     "text": [
      "ExtraTreesClassifier(random_state=42) - successfully trained\n"
     ]
    },
    {
     "name": "stderr",
     "output_type": "stream",
     "text": [
      "Training Models:  50%|███████████████████████████████                               | 10/20 [02:17<04:06, 24.62s/model]"
     ]
    },
    {
     "name": "stdout",
     "output_type": "stream",
     "text": [
      "AdaBoostClassifier(random_state=42) - successfully trained\n"
     ]
    },
    {
     "name": "stderr",
     "output_type": "stream",
     "text": [
      "Training Models:  55%|██████████████████████████████████                            | 11/20 [02:27<03:02, 20.23s/model]"
     ]
    },
    {
     "name": "stdout",
     "output_type": "stream",
     "text": [
      "BaggingClassifier(random_state=42) - successfully trained\n"
     ]
    },
    {
     "name": "stderr",
     "output_type": "stream",
     "text": [
      "Training Models:  60%|█████████████████████████████████████▏                        | 12/20 [02:57<03:05, 23.22s/model]"
     ]
    },
    {
     "name": "stdout",
     "output_type": "stream",
     "text": [
      "XGBClassifier(base_score=None, booster=None, callbacks=None,\n",
      "              colsample_bylevel=None, colsample_bynode=None,\n",
      "              colsample_bytree=None, early_stopping_rounds=None,\n",
      "              enable_categorical=False, eval_metric=None, feature_types=None,\n",
      "              gamma=None, gpu_id=None, grow_policy=None, importance_type=None,\n",
      "              interaction_constraints=None, learning_rate=None, max_bin=None,\n",
      "              max_cat_threshold=None, max_cat_to_onehot=None,\n",
      "              max_delta_step=None, max_depth=None, max_leaves=None,\n",
      "              min_child_weight=None, missing=nan, monotone_constraints=None,\n",
      "              n_estimators=100, n_jobs=None, num_parallel_tree=None,\n",
      "              predictor=None, random_state=42, ...) - successfully trained\n"
     ]
    },
    {
     "name": "stderr",
     "output_type": "stream",
     "text": [
      "Training Models:  65%|████████████████████████████████████████▎                     | 13/20 [03:15<02:31, 21.58s/model]"
     ]
    },
    {
     "name": "stdout",
     "output_type": "stream",
     "text": [
      "LGBMClassifier(random_state=42) - successfully trained\n"
     ]
    },
    {
     "name": "stderr",
     "output_type": "stream",
     "text": [
      "Training Models:  70%|███████████████████████████████████████████▍                  | 14/20 [03:17<01:32, 15.49s/model]"
     ]
    },
    {
     "name": "stdout",
     "output_type": "stream",
     "text": [
      "KNeighborsClassifier() - successfully trained\n"
     ]
    },
    {
     "name": "stderr",
     "output_type": "stream",
     "text": [
      "Training Models:  75%|██████████████████████████████████████████████▌               | 15/20 [03:18<00:55, 11.12s/model]"
     ]
    },
    {
     "name": "stdout",
     "output_type": "stream",
     "text": [
      "NearestCentroid() - successfully trained\n"
     ]
    },
    {
     "name": "stderr",
     "output_type": "stream",
     "text": [
      "Training Models:  80%|█████████████████████████████████████████████████▌            | 16/20 [03:28<00:43, 10.96s/model]"
     ]
    },
    {
     "name": "stdout",
     "output_type": "stream",
     "text": [
      "LinearSVC(random_state=42) - successfully trained\n"
     ]
    },
    {
     "name": "stderr",
     "output_type": "stream",
     "text": [
      "Training Models:  85%|████████████████████████████████████████████████████▋         | 17/20 [03:34<00:27,  9.27s/model]"
     ]
    },
    {
     "name": "stdout",
     "output_type": "stream",
     "text": [
      "NuSVC(random_state=42) - successfully trained\n"
     ]
    },
    {
     "name": "stderr",
     "output_type": "stream",
     "text": [
      "Training Models:  90%|███████████████████████████████████████████████████████▊      | 18/20 [03:41<00:17,  8.58s/model]"
     ]
    },
    {
     "name": "stdout",
     "output_type": "stream",
     "text": [
      "SVC(random_state=42) - successfully trained\n"
     ]
    },
    {
     "name": "stderr",
     "output_type": "stream",
     "text": [
      "Training Models:  95%|██████████████████████████████████████████████████████████▉   | 19/20 [03:42<00:06,  6.35s/model]"
     ]
    },
    {
     "name": "stdout",
     "output_type": "stream",
     "text": [
      "BernoulliNB() - successfully trained\n"
     ]
    },
    {
     "name": "stderr",
     "output_type": "stream",
     "text": [
      "Training Models: 100%|██████████████████████████████████████████████████████████████| 20/20 [03:43<00:00, 11.17s/model]"
     ]
    },
    {
     "name": "stdout",
     "output_type": "stream",
     "text": [
      "GaussianNB() - successfully trained\n"
     ]
    },
    {
     "name": "stderr",
     "output_type": "stream",
     "text": [
      "\n"
     ]
    },
    {
     "data": {
      "text/html": [
       "<div>\n",
       "<style scoped>\n",
       "    .dataframe tbody tr th:only-of-type {\n",
       "        vertical-align: middle;\n",
       "    }\n",
       "\n",
       "    .dataframe tbody tr th {\n",
       "        vertical-align: top;\n",
       "    }\n",
       "\n",
       "    .dataframe thead th {\n",
       "        text-align: right;\n",
       "    }\n",
       "</style>\n",
       "<table border=\"1\" class=\"dataframe\">\n",
       "  <thead>\n",
       "    <tr style=\"text-align: right;\">\n",
       "      <th></th>\n",
       "      <th>Model</th>\n",
       "      <th>Accuracy</th>\n",
       "      <th>Sensitivity</th>\n",
       "      <th>Specificity</th>\n",
       "      <th>Positive Predictive Value</th>\n",
       "      <th>Negative Predictive Value</th>\n",
       "      <th>F1-score</th>\n",
       "      <th>False Positive Rate</th>\n",
       "      <th>True Positive Rate</th>\n",
       "    </tr>\n",
       "  </thead>\n",
       "  <tbody>\n",
       "    <tr>\n",
       "      <th>12</th>\n",
       "      <td>LGBMClassifier</td>\n",
       "      <td>0.946367</td>\n",
       "      <td>0.961938</td>\n",
       "      <td>0.930796</td>\n",
       "      <td>0.932886</td>\n",
       "      <td>0.960714</td>\n",
       "      <td>0.947189</td>\n",
       "      <td>0.069204</td>\n",
       "      <td>0.961938</td>\n",
       "    </tr>\n",
       "    <tr>\n",
       "      <th>8</th>\n",
       "      <td>ExtraTreesClassifier</td>\n",
       "      <td>0.935986</td>\n",
       "      <td>0.951557</td>\n",
       "      <td>0.920415</td>\n",
       "      <td>0.922819</td>\n",
       "      <td>0.95</td>\n",
       "      <td>0.936968</td>\n",
       "      <td>0.079585</td>\n",
       "      <td>0.951557</td>\n",
       "    </tr>\n",
       "    <tr>\n",
       "      <th>11</th>\n",
       "      <td>XGBClassifier</td>\n",
       "      <td>0.929066</td>\n",
       "      <td>0.944637</td>\n",
       "      <td>0.913495</td>\n",
       "      <td>0.916107</td>\n",
       "      <td>0.942857</td>\n",
       "      <td>0.930153</td>\n",
       "      <td>0.086505</td>\n",
       "      <td>0.944637</td>\n",
       "    </tr>\n",
       "    <tr>\n",
       "      <th>7</th>\n",
       "      <td>RandomForestClassifier</td>\n",
       "      <td>0.923875</td>\n",
       "      <td>0.937716</td>\n",
       "      <td>0.910035</td>\n",
       "      <td>0.912458</td>\n",
       "      <td>0.935943</td>\n",
       "      <td>0.924915</td>\n",
       "      <td>0.089965</td>\n",
       "      <td>0.937716</td>\n",
       "    </tr>\n",
       "    <tr>\n",
       "      <th>13</th>\n",
       "      <td>KNeighborsClassifier</td>\n",
       "      <td>0.908304</td>\n",
       "      <td>0.923875</td>\n",
       "      <td>0.892734</td>\n",
       "      <td>0.895973</td>\n",
       "      <td>0.921429</td>\n",
       "      <td>0.90971</td>\n",
       "      <td>0.107266</td>\n",
       "      <td>0.923875</td>\n",
       "    </tr>\n",
       "    <tr>\n",
       "      <th>10</th>\n",
       "      <td>BaggingClassifier</td>\n",
       "      <td>0.891003</td>\n",
       "      <td>0.906574</td>\n",
       "      <td>0.875433</td>\n",
       "      <td>0.879195</td>\n",
       "      <td>0.903571</td>\n",
       "      <td>0.892675</td>\n",
       "      <td>0.124567</td>\n",
       "      <td>0.906574</td>\n",
       "    </tr>\n",
       "    <tr>\n",
       "      <th>5</th>\n",
       "      <td>DecisionTreeClassifier</td>\n",
       "      <td>0.873702</td>\n",
       "      <td>0.885813</td>\n",
       "      <td>0.861592</td>\n",
       "      <td>0.864865</td>\n",
       "      <td>0.882979</td>\n",
       "      <td>0.875214</td>\n",
       "      <td>0.138408</td>\n",
       "      <td>0.885813</td>\n",
       "    </tr>\n",
       "    <tr>\n",
       "      <th>9</th>\n",
       "      <td>AdaBoostClassifier</td>\n",
       "      <td>0.870242</td>\n",
       "      <td>0.899654</td>\n",
       "      <td>0.84083</td>\n",
       "      <td>0.849673</td>\n",
       "      <td>0.893382</td>\n",
       "      <td>0.87395</td>\n",
       "      <td>0.15917</td>\n",
       "      <td>0.899654</td>\n",
       "    </tr>\n",
       "    <tr>\n",
       "      <th>6</th>\n",
       "      <td>ExtraTreeClassifier</td>\n",
       "      <td>0.856401</td>\n",
       "      <td>0.858131</td>\n",
       "      <td>0.854671</td>\n",
       "      <td>0.855172</td>\n",
       "      <td>0.857639</td>\n",
       "      <td>0.856649</td>\n",
       "      <td>0.145329</td>\n",
       "      <td>0.858131</td>\n",
       "    </tr>\n",
       "    <tr>\n",
       "      <th>3</th>\n",
       "      <td>RidgeClassifier</td>\n",
       "      <td>0.738754</td>\n",
       "      <td>0.712803</td>\n",
       "      <td>0.764706</td>\n",
       "      <td>0.751825</td>\n",
       "      <td>0.726974</td>\n",
       "      <td>0.731794</td>\n",
       "      <td>0.235294</td>\n",
       "      <td>0.712803</td>\n",
       "    </tr>\n",
       "    <tr>\n",
       "      <th>0</th>\n",
       "      <td>LogisticRegression</td>\n",
       "      <td>0.740484</td>\n",
       "      <td>0.702422</td>\n",
       "      <td>0.778547</td>\n",
       "      <td>0.7603</td>\n",
       "      <td>0.723473</td>\n",
       "      <td>0.730216</td>\n",
       "      <td>0.221453</td>\n",
       "      <td>0.702422</td>\n",
       "    </tr>\n",
       "    <tr>\n",
       "      <th>4</th>\n",
       "      <td>RidgeClassifierCV</td>\n",
       "      <td>0.730104</td>\n",
       "      <td>0.688581</td>\n",
       "      <td>0.771626</td>\n",
       "      <td>0.750943</td>\n",
       "      <td>0.71246</td>\n",
       "      <td>0.718412</td>\n",
       "      <td>0.228374</td>\n",
       "      <td>0.688581</td>\n",
       "    </tr>\n",
       "    <tr>\n",
       "      <th>2</th>\n",
       "      <td>SGDClassifier</td>\n",
       "      <td>0.648789</td>\n",
       "      <td>0.678201</td>\n",
       "      <td>0.619377</td>\n",
       "      <td>0.640523</td>\n",
       "      <td>0.658088</td>\n",
       "      <td>0.658824</td>\n",
       "      <td>0.380623</td>\n",
       "      <td>0.678201</td>\n",
       "    </tr>\n",
       "    <tr>\n",
       "      <th>18</th>\n",
       "      <td>BernoulliNB</td>\n",
       "      <td>0.626298</td>\n",
       "      <td>0.698962</td>\n",
       "      <td>0.553633</td>\n",
       "      <td>0.610272</td>\n",
       "      <td>0.647773</td>\n",
       "      <td>0.651613</td>\n",
       "      <td>0.446367</td>\n",
       "      <td>0.698962</td>\n",
       "    </tr>\n",
       "    <tr>\n",
       "      <th>1</th>\n",
       "      <td>Perceptron</td>\n",
       "      <td>0.634948</td>\n",
       "      <td>0.636678</td>\n",
       "      <td>0.633218</td>\n",
       "      <td>0.634483</td>\n",
       "      <td>0.635417</td>\n",
       "      <td>0.635579</td>\n",
       "      <td>0.366782</td>\n",
       "      <td>0.636678</td>\n",
       "    </tr>\n",
       "    <tr>\n",
       "      <th>16</th>\n",
       "      <td>NuSVC</td>\n",
       "      <td>0.50692</td>\n",
       "      <td>0.851211</td>\n",
       "      <td>0.16263</td>\n",
       "      <td>0.504098</td>\n",
       "      <td>0.522222</td>\n",
       "      <td>0.633205</td>\n",
       "      <td>0.83737</td>\n",
       "      <td>0.851211</td>\n",
       "    </tr>\n",
       "    <tr>\n",
       "      <th>15</th>\n",
       "      <td>LinearSVC</td>\n",
       "      <td>0.622837</td>\n",
       "      <td>0.574394</td>\n",
       "      <td>0.67128</td>\n",
       "      <td>0.636015</td>\n",
       "      <td>0.611987</td>\n",
       "      <td>0.603636</td>\n",
       "      <td>0.32872</td>\n",
       "      <td>0.574394</td>\n",
       "    </tr>\n",
       "    <tr>\n",
       "      <th>19</th>\n",
       "      <td>GaussianNB</td>\n",
       "      <td>0.567474</td>\n",
       "      <td>0.186851</td>\n",
       "      <td>0.948097</td>\n",
       "      <td>0.782609</td>\n",
       "      <td>0.53831</td>\n",
       "      <td>0.301676</td>\n",
       "      <td>0.051903</td>\n",
       "      <td>0.186851</td>\n",
       "    </tr>\n",
       "    <tr>\n",
       "      <th>14</th>\n",
       "      <td>NearestCentroid</td>\n",
       "      <td>0.525952</td>\n",
       "      <td>0.051903</td>\n",
       "      <td>1.0</td>\n",
       "      <td>1.0</td>\n",
       "      <td>0.513321</td>\n",
       "      <td>0.098684</td>\n",
       "      <td>0.0</td>\n",
       "      <td>0.051903</td>\n",
       "    </tr>\n",
       "    <tr>\n",
       "      <th>17</th>\n",
       "      <td>SVC</td>\n",
       "      <td>0.524221</td>\n",
       "      <td>0.048443</td>\n",
       "      <td>1.0</td>\n",
       "      <td>1.0</td>\n",
       "      <td>0.512411</td>\n",
       "      <td>0.092409</td>\n",
       "      <td>0.0</td>\n",
       "      <td>0.048443</td>\n",
       "    </tr>\n",
       "  </tbody>\n",
       "</table>\n",
       "</div>"
      ],
      "text/plain": [
       "                     Model  Accuracy Sensitivity Specificity  \\\n",
       "12          LGBMClassifier  0.946367    0.961938    0.930796   \n",
       "8     ExtraTreesClassifier  0.935986    0.951557    0.920415   \n",
       "11           XGBClassifier  0.929066    0.944637    0.913495   \n",
       "7   RandomForestClassifier  0.923875    0.937716    0.910035   \n",
       "13    KNeighborsClassifier  0.908304    0.923875    0.892734   \n",
       "10       BaggingClassifier  0.891003    0.906574    0.875433   \n",
       "5   DecisionTreeClassifier  0.873702    0.885813    0.861592   \n",
       "9       AdaBoostClassifier  0.870242    0.899654     0.84083   \n",
       "6      ExtraTreeClassifier  0.856401    0.858131    0.854671   \n",
       "3          RidgeClassifier  0.738754    0.712803    0.764706   \n",
       "0       LogisticRegression  0.740484    0.702422    0.778547   \n",
       "4        RidgeClassifierCV  0.730104    0.688581    0.771626   \n",
       "2            SGDClassifier  0.648789    0.678201    0.619377   \n",
       "18             BernoulliNB  0.626298    0.698962    0.553633   \n",
       "1               Perceptron  0.634948    0.636678    0.633218   \n",
       "16                   NuSVC   0.50692    0.851211     0.16263   \n",
       "15               LinearSVC  0.622837    0.574394     0.67128   \n",
       "19              GaussianNB  0.567474    0.186851    0.948097   \n",
       "14         NearestCentroid  0.525952    0.051903         1.0   \n",
       "17                     SVC  0.524221    0.048443         1.0   \n",
       "\n",
       "   Positive Predictive Value Negative Predictive Value  F1-score  \\\n",
       "12                  0.932886                  0.960714  0.947189   \n",
       "8                   0.922819                      0.95  0.936968   \n",
       "11                  0.916107                  0.942857  0.930153   \n",
       "7                   0.912458                  0.935943  0.924915   \n",
       "13                  0.895973                  0.921429   0.90971   \n",
       "10                  0.879195                  0.903571  0.892675   \n",
       "5                   0.864865                  0.882979  0.875214   \n",
       "9                   0.849673                  0.893382   0.87395   \n",
       "6                   0.855172                  0.857639  0.856649   \n",
       "3                   0.751825                  0.726974  0.731794   \n",
       "0                     0.7603                  0.723473  0.730216   \n",
       "4                   0.750943                   0.71246  0.718412   \n",
       "2                   0.640523                  0.658088  0.658824   \n",
       "18                  0.610272                  0.647773  0.651613   \n",
       "1                   0.634483                  0.635417  0.635579   \n",
       "16                  0.504098                  0.522222  0.633205   \n",
       "15                  0.636015                  0.611987  0.603636   \n",
       "19                  0.782609                   0.53831  0.301676   \n",
       "14                       1.0                  0.513321  0.098684   \n",
       "17                       1.0                  0.512411  0.092409   \n",
       "\n",
       "   False Positive Rate True Positive Rate  \n",
       "12            0.069204           0.961938  \n",
       "8             0.079585           0.951557  \n",
       "11            0.086505           0.944637  \n",
       "7             0.089965           0.937716  \n",
       "13            0.107266           0.923875  \n",
       "10            0.124567           0.906574  \n",
       "5             0.138408           0.885813  \n",
       "9              0.15917           0.899654  \n",
       "6             0.145329           0.858131  \n",
       "3             0.235294           0.712803  \n",
       "0             0.221453           0.702422  \n",
       "4             0.228374           0.688581  \n",
       "2             0.380623           0.678201  \n",
       "18            0.446367           0.698962  \n",
       "1             0.366782           0.636678  \n",
       "16             0.83737           0.851211  \n",
       "15             0.32872           0.574394  \n",
       "19            0.051903           0.186851  \n",
       "14                 0.0           0.051903  \n",
       "17                 0.0           0.048443  "
      ]
     },
     "execution_count": 16,
     "metadata": {},
     "output_type": "execute_result"
    }
   ],
   "source": [
    "# Perfrom model evaluation on ADASYN un-scaled data\n",
    "ada_results = train_models(X_ada, y_ada, models)\n",
    "ada_results"
   ]
  },
  {
   "cell_type": "code",
   "execution_count": 37,
   "id": "9aadb396",
   "metadata": {},
   "outputs": [
    {
     "name": "stdout",
     "output_type": "stream",
     "text": [
      "Training with highest f1 score: ['ada_results']\n"
     ]
    }
   ],
   "source": [
    "# Determine which training run gave best f1 score\n",
    "\n",
    "# Extract f1 score values from each dataframe\n",
    "f1_scores = {\n",
    "    'smt_scaled_results': smt_scaled_results.iloc[0, 6],\n",
    "    'smt_results': smt_results.iloc[0, 6],\n",
    "    'ada_scaled_results': ada_scaled_results.iloc[0, 6],\n",
    "    'ada_results': ada_results.iloc[0, 6]\n",
    "}\n",
    "\n",
    "# Find the maximum f1 score value and corresponding dataframe name\n",
    "max_value = max(f1_scores.values())\n",
    "df_with_max_value = [df_name for df_name, \n",
    "                          value in f1_scores.items() if value == max_value]\n",
    "\n",
    "# If there are multiple dataframes with the same maximum value, return all their names\n",
    "print(\"Training with highest f1 score:\", df_with_max_value)\n"
   ]
  },
  {
   "cell_type": "code",
   "execution_count": 49,
   "id": "46b4f772",
   "metadata": {},
   "outputs": [
    {
     "name": "stdout",
     "output_type": "stream",
     "text": [
      "LGBMClassifier training complete\n"
     ]
    }
   ],
   "source": [
    "# Identify the best performing model according to F1 score\n",
    "best_model_name = ada_results.iloc[0]['Model']\n",
    "best_model_index = model_names.index(best_model_name)\n",
    "best_model = models[best_model_index]\n",
    "\n",
    "# Perform leave one out cross validation on the best model to obtian predictions\n",
    "cv = LeaveOneOut()\n",
    "best_pred = cross_val_predict(best_model, X_smt_scaled, y_smt, cv = cv, n_jobs=-1)\n",
    "\n",
    "# Combine predicitons and actual class label into dataframe\n",
    "y = np.array(y)\n",
    "best_results = np.stack((y_smt, best_pred), axis=1)\n",
    "best_results = pd.DataFrame(best_results,\n",
    "                   columns=['Actual', 'Predictions'])\n",
    "print(best_model_name, \"training complete\")"
   ]
  },
  {
   "cell_type": "markdown",
   "id": "772bd33f",
   "metadata": {},
   "source": [
    "# Best model summary evaluation "
   ]
  },
  {
   "cell_type": "code",
   "execution_count": 50,
   "id": "518de84a",
   "metadata": {},
   "outputs": [
    {
     "name": "stdout",
     "output_type": "stream",
     "text": [
      "Performance metrics for the best performing model \n",
      "\n",
      " BEST MODEL: LGBMClassifier(random_state=42) \n",
      "\n",
      "<sklearn.metrics._plot.confusion_matrix.ConfusionMatrixDisplay object at 0x000001574671EA60>\n",
      "              precision    recall  f1-score   support\n",
      "\n",
      "           0       0.95      0.93      0.94       300\n",
      "           1       0.93      0.95      0.94       300\n",
      "\n",
      "    accuracy                           0.94       600\n",
      "   macro avg       0.94      0.94      0.94       600\n",
      "weighted avg       0.94      0.94      0.94       600\n",
      "\n",
      "<sklearn.metrics._plot.roc_curve.RocCurveDisplay object at 0x000001574671E190>\n"
     ]
    },
    {
     "data": {
      "image/png": "[encoded data removed]",
      "text/plain": [
       "<Figure size 640x480 with 2 Axes>"
      ]
     },
     "metadata": {},
     "output_type": "display_data"
    },
    {
     "data": {
      "image/png": "[encoded data removed]",
      "text/plain": [
       "<Figure size 640x480 with 1 Axes>"
      ]
     },
     "metadata": {},
     "output_type": "display_data"
    }
   ],
   "source": [
    "# Display best model performance metrics\n",
    "print(\"Performance metrics for the best performing model \\n\\n BEST MODEL: {} \\n\".format(best_model))\n",
    "\n",
    "print(ConfusionMatrixDisplay.from_predictions(best_results['Actual'],\n",
    "                                              best_results['Predictions'], normalize= \"true\"))\n",
    "\n",
    "print(classification_report(best_results['Actual'],\n",
    "                            best_results['Predictions']))\n",
    "\n",
    "print(RocCurveDisplay.from_predictions(best_results['Actual'],\n",
    "                                       best_results['Predictions']))"
   ]
  },
  {
   "cell_type": "code",
   "execution_count": 58,
   "id": "372d8792",
   "metadata": {},
   "outputs": [
    {
     "data": {
      "image/png": "[encoded data removed]",
      "text/plain": [
       "<Figure size 700x600 with 1 Axes>"
      ]
     },
     "metadata": {},
     "output_type": "display_data"
    }
   ],
   "source": [
    "lgb.plot_importance(best_model, importance_type=\"gain\", figsize=(7,6), title=\"LightGBM Feature Importance (Gain)\")\n",
    "plt.show()"
   ]
  },
  {
   "cell_type": "code",
   "execution_count": 60,
   "id": "1247a4e5",
   "metadata": {},
   "outputs": [
    {
     "data": {
      "image/png": "[encoded data removed]",
      "text/plain": [
       "<Figure size 700x600 with 1 Axes>"
      ]
     },
     "metadata": {},
     "output_type": "display_data"
    }
   ],
   "source": [
    "lgb.plot_importance(best_model, importance_type=\"split\", figsize=(7,6), \n",
    "                    title=\"LightGBM Feature Importance (Split)\")\n",
    "plt.show()"
   ]
  },
  {
   "cell_type": "code",
   "execution_count": null,
   "id": "5ed144ea",
   "metadata": {},
   "outputs": [],
   "source": []
  }
 ],
 "metadata": {
  "kernelspec": {
   "display_name": "Python 3 (ipykernel)",
   "language": "python",
   "name": "python3"
  },
  "language_info": {
   "codemirror_mode": {
    "name": "ipython",
    "version": 3
   },
   "file_extension": ".py",
   "mimetype": "text/x-python",
   "name": "python",
   "nbconvert_exporter": "python",
   "pygments_lexer": "ipython3",
   "version": "3.9.13"
  }
 },
 "nbformat": 4,
 "nbformat_minor": 5
}
